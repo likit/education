{
 "cells": [
  {
   "cell_type": "code",
   "execution_count": 1,
   "metadata": {
    "collapsed": true
   },
   "outputs": [],
   "source": [
    "import pandas"
   ]
  },
  {
   "cell_type": "code",
   "execution_count": 4,
   "metadata": {},
   "outputs": [
    {
     "data": {
      "text/plain": [
       "u'0.20.2'"
      ]
     },
     "execution_count": 4,
     "metadata": {},
     "output_type": "execute_result"
    }
   ],
   "source": [
    "pandas.__version__"
   ]
  },
  {
   "cell_type": "code",
   "execution_count": 5,
   "metadata": {
    "collapsed": true
   },
   "outputs": [],
   "source": [
    "import numpy"
   ]
  },
  {
   "cell_type": "code",
   "execution_count": 6,
   "metadata": {},
   "outputs": [
    {
     "data": {
      "text/plain": [
       "'1.12.1'"
      ]
     },
     "execution_count": 6,
     "metadata": {},
     "output_type": "execute_result"
    }
   ],
   "source": [
    "numpy.__version__"
   ]
  },
  {
   "cell_type": "code",
   "execution_count": 13,
   "metadata": {
    "collapsed": true
   },
   "outputs": [],
   "source": [
    "alist = [1,2,6,3,9,8]"
   ]
  },
  {
   "cell_type": "code",
   "execution_count": 14,
   "metadata": {
    "collapsed": true
   },
   "outputs": [],
   "source": [
    "sorted_alist = sorted(alist)"
   ]
  },
  {
   "cell_type": "code",
   "execution_count": 15,
   "metadata": {},
   "outputs": [
    {
     "data": {
      "text/plain": [
       "[1, 2, 3, 6, 8, 9]"
      ]
     },
     "execution_count": 15,
     "metadata": {},
     "output_type": "execute_result"
    }
   ],
   "source": [
    "sorted_alist"
   ]
  },
  {
   "cell_type": "code",
   "execution_count": 16,
   "metadata": {},
   "outputs": [
    {
     "data": {
      "text/plain": [
       "[1, 2, 6, 3, 9, 8]"
      ]
     },
     "execution_count": 16,
     "metadata": {},
     "output_type": "execute_result"
    }
   ],
   "source": [
    "alist"
   ]
  },
  {
   "cell_type": "code",
   "execution_count": 8,
   "metadata": {
    "collapsed": true
   },
   "outputs": [],
   "source": [
    "alist.sort()"
   ]
  },
  {
   "cell_type": "code",
   "execution_count": 9,
   "metadata": {},
   "outputs": [
    {
     "data": {
      "text/plain": [
       "[1, 2, 3, 6, 8, 9]"
      ]
     },
     "execution_count": 9,
     "metadata": {},
     "output_type": "execute_result"
    }
   ],
   "source": [
    "alist"
   ]
  },
  {
   "cell_type": "code",
   "execution_count": 10,
   "metadata": {
    "collapsed": true
   },
   "outputs": [],
   "source": [
    "blist = ['hello', 'world', 'aloha']"
   ]
  },
  {
   "cell_type": "code",
   "execution_count": 11,
   "metadata": {
    "collapsed": true
   },
   "outputs": [],
   "source": [
    "blist.sort()"
   ]
  },
  {
   "cell_type": "code",
   "execution_count": 12,
   "metadata": {},
   "outputs": [
    {
     "data": {
      "text/plain": [
       "['aloha', 'hello', 'world']"
      ]
     },
     "execution_count": 12,
     "metadata": {},
     "output_type": "execute_result"
    }
   ],
   "source": [
    "blist"
   ]
  },
  {
   "cell_type": "code",
   "execution_count": 17,
   "metadata": {
    "collapsed": true
   },
   "outputs": [],
   "source": [
    "def tail(word):\n",
    "    return word[-1]"
   ]
  },
  {
   "cell_type": "code",
   "execution_count": 19,
   "metadata": {},
   "outputs": [
    {
     "data": {
      "text/plain": [
       "'a'"
      ]
     },
     "execution_count": 19,
     "metadata": {},
     "output_type": "execute_result"
    }
   ],
   "source": [
    "tail('aloha')"
   ]
  },
  {
   "cell_type": "code",
   "execution_count": 21,
   "metadata": {
    "collapsed": true
   },
   "outputs": [],
   "source": [
    "blist.sort(key=tail)"
   ]
  },
  {
   "cell_type": "code",
   "execution_count": 22,
   "metadata": {},
   "outputs": [
    {
     "data": {
      "text/plain": [
       "['aloha', 'world', 'hello']"
      ]
     },
     "execution_count": 22,
     "metadata": {},
     "output_type": "execute_result"
    }
   ],
   "source": [
    "blist"
   ]
  },
  {
   "cell_type": "code",
   "execution_count": 24,
   "metadata": {},
   "outputs": [],
   "source": [
    "adict = {'a': 9, 'b': 3, 'c': 10, 'd': 0}"
   ]
  },
  {
   "cell_type": "code",
   "execution_count": 25,
   "metadata": {},
   "outputs": [
    {
     "data": {
      "text/plain": [
       "{'a': 9, 'b': 3, 'c': 10, 'd': 0}"
      ]
     },
     "execution_count": 25,
     "metadata": {},
     "output_type": "execute_result"
    }
   ],
   "source": [
    "adict"
   ]
  },
  {
   "cell_type": "code",
   "execution_count": 26,
   "metadata": {},
   "outputs": [
    {
     "name": "stdout",
     "output_type": "stream",
     "text": [
      "a\n",
      "c\n",
      "b\n",
      "d\n"
     ]
    }
   ],
   "source": [
    "for key in adict:\n",
    "    print(key)"
   ]
  },
  {
   "cell_type": "code",
   "execution_count": 27,
   "metadata": {
    "collapsed": true
   },
   "outputs": [],
   "source": [
    "keys = adict.keys()"
   ]
  },
  {
   "cell_type": "code",
   "execution_count": 29,
   "metadata": {},
   "outputs": [],
   "source": [
    "keys.sort()"
   ]
  },
  {
   "cell_type": "code",
   "execution_count": 30,
   "metadata": {},
   "outputs": [
    {
     "data": {
      "text/plain": [
       "['a', 'b', 'c', 'd']"
      ]
     },
     "execution_count": 30,
     "metadata": {},
     "output_type": "execute_result"
    }
   ],
   "source": [
    "keys"
   ]
  },
  {
   "cell_type": "code",
   "execution_count": 31,
   "metadata": {},
   "outputs": [
    {
     "name": "stdout",
     "output_type": "stream",
     "text": [
      "9\n",
      "3\n",
      "10\n",
      "0\n"
     ]
    }
   ],
   "source": [
    "for k in keys:\n",
    "    print(adict[k])"
   ]
  },
  {
   "cell_type": "code",
   "execution_count": 32,
   "metadata": {},
   "outputs": [
    {
     "name": "stdout",
     "output_type": "stream",
     "text": [
      "9\n",
      "3\n",
      "10\n",
      "0\n"
     ]
    }
   ],
   "source": [
    "for k in sorted(adict.keys()):\n",
    "    print(adict[k])"
   ]
  },
  {
   "cell_type": "code",
   "execution_count": 48,
   "metadata": {
    "collapsed": true
   },
   "outputs": [],
   "source": [
    "from operator import itemgetter"
   ]
  },
  {
   "cell_type": "code",
   "execution_count": 49,
   "metadata": {
    "collapsed": true
   },
   "outputs": [],
   "source": [
    "itemgetter"
   ]
  },
  {
   "cell_type": "code",
   "execution_count": 50,
   "metadata": {},
   "outputs": [
    {
     "name": "stdout",
     "output_type": "stream",
     "text": [
      "('a', 9)\n",
      "('c', 10)\n",
      "('b', 3)\n",
      "('d', 0)\n"
     ]
    }
   ],
   "source": [
    "for item in adict.iteritems():\n",
    "    print(item)"
   ]
  },
  {
   "cell_type": "code",
   "execution_count": 51,
   "metadata": {},
   "outputs": [
    {
     "data": {
      "text/plain": [
       "('d', 0)"
      ]
     },
     "execution_count": 51,
     "metadata": {},
     "output_type": "execute_result"
    }
   ],
   "source": [
    "item"
   ]
  },
  {
   "cell_type": "code",
   "execution_count": 53,
   "metadata": {},
   "outputs": [],
   "source": [
    "sorted_dict = sorted(adict.iteritems(), key=itemgetter(1))"
   ]
  },
  {
   "cell_type": "code",
   "execution_count": 54,
   "metadata": {},
   "outputs": [
    {
     "data": {
      "text/plain": [
       "['d', 'b', 'a', 'c']"
      ]
     },
     "execution_count": 54,
     "metadata": {},
     "output_type": "execute_result"
    }
   ],
   "source": [
    "[item[0] for item in sorted_dict]"
   ]
  },
  {
   "cell_type": "code",
   "execution_count": 55,
   "metadata": {
    "collapsed": true
   },
   "outputs": [],
   "source": [
    "blist.sort(key=lambda x: x[-1])"
   ]
  },
  {
   "cell_type": "code",
   "execution_count": 56,
   "metadata": {},
   "outputs": [
    {
     "data": {
      "text/plain": [
       "['aloha', 'world', 'hello']"
      ]
     },
     "execution_count": 56,
     "metadata": {},
     "output_type": "execute_result"
    }
   ],
   "source": [
    "blist"
   ]
  },
  {
   "cell_type": "code",
   "execution_count": 58,
   "metadata": {
    "collapsed": true
   },
   "outputs": [],
   "source": [
    "import pandas as pd"
   ]
  },
  {
   "cell_type": "code",
   "execution_count": 59,
   "metadata": {
    "collapsed": true
   },
   "outputs": [],
   "source": [
    "import numpy as np"
   ]
  },
  {
   "cell_type": "code",
   "execution_count": 60,
   "metadata": {
    "collapsed": true
   },
   "outputs": [],
   "source": [
    "s1 = pd.Series([1,2,3,4,5])"
   ]
  },
  {
   "cell_type": "code",
   "execution_count": 61,
   "metadata": {},
   "outputs": [
    {
     "data": {
      "text/plain": [
       "0    1\n",
       "1    2\n",
       "2    3\n",
       "3    4\n",
       "4    5\n",
       "dtype: int64"
      ]
     },
     "execution_count": 61,
     "metadata": {},
     "output_type": "execute_result"
    }
   ],
   "source": [
    "s1"
   ]
  },
  {
   "cell_type": "code",
   "execution_count": 71,
   "metadata": {},
   "outputs": [
    {
     "data": {
      "text/plain": [
       "0    1\n",
       "1    2\n",
       "2    3\n",
       "3    4\n",
       "4    5\n",
       "dtype: int64"
      ]
     },
     "execution_count": 71,
     "metadata": {},
     "output_type": "execute_result"
    }
   ],
   "source": [
    "s1"
   ]
  },
  {
   "cell_type": "code",
   "execution_count": 72,
   "metadata": {},
   "outputs": [],
   "source": [
    "s2 = pd.Series([3,4,5,6,7])"
   ]
  },
  {
   "cell_type": "code",
   "execution_count": 73,
   "metadata": {},
   "outputs": [
    {
     "data": {
      "text/plain": [
       "0    3\n",
       "1    4\n",
       "2    5\n",
       "3    6\n",
       "4    7\n",
       "dtype: int64"
      ]
     },
     "execution_count": 73,
     "metadata": {},
     "output_type": "execute_result"
    }
   ],
   "source": [
    "s2"
   ]
  },
  {
   "cell_type": "code",
   "execution_count": 75,
   "metadata": {},
   "outputs": [],
   "source": [
    "s3 = s1 + s2"
   ]
  },
  {
   "cell_type": "code",
   "execution_count": 76,
   "metadata": {},
   "outputs": [
    {
     "data": {
      "text/plain": [
       "0     4\n",
       "1     6\n",
       "2     8\n",
       "3    10\n",
       "4    12\n",
       "dtype: int64"
      ]
     },
     "execution_count": 76,
     "metadata": {},
     "output_type": "execute_result"
    }
   ],
   "source": [
    "s3"
   ]
  },
  {
   "cell_type": "code",
   "execution_count": 77,
   "metadata": {},
   "outputs": [
    {
     "data": {
      "text/plain": [
       "0    12\n",
       "1    24\n",
       "2    40\n",
       "3    60\n",
       "4    84\n",
       "dtype: int64"
      ]
     },
     "execution_count": 77,
     "metadata": {},
     "output_type": "execute_result"
    }
   ],
   "source": [
    "s3 * s2"
   ]
  },
  {
   "cell_type": "code",
   "execution_count": 78,
   "metadata": {},
   "outputs": [
    {
     "data": {
      "text/plain": [
       "0    1\n",
       "1    2\n",
       "2    3\n",
       "3    4\n",
       "4    5\n",
       "dtype: int64"
      ]
     },
     "execution_count": 78,
     "metadata": {},
     "output_type": "execute_result"
    }
   ],
   "source": [
    "s3 - s2"
   ]
  },
  {
   "cell_type": "code",
   "execution_count": 79,
   "metadata": {
    "collapsed": true
   },
   "outputs": [],
   "source": [
    "s4 = pd.Series([6,7,8], index=[4,5,6])"
   ]
  },
  {
   "cell_type": "code",
   "execution_count": 80,
   "metadata": {},
   "outputs": [
    {
     "data": {
      "text/plain": [
       "4    6\n",
       "5    7\n",
       "6    8\n",
       "dtype: int64"
      ]
     },
     "execution_count": 80,
     "metadata": {},
     "output_type": "execute_result"
    }
   ],
   "source": [
    "s4"
   ]
  },
  {
   "cell_type": "code",
   "execution_count": 82,
   "metadata": {},
   "outputs": [
    {
     "data": {
      "text/plain": [
       "0    NaN\n",
       "1    NaN\n",
       "2    NaN\n",
       "3    NaN\n",
       "4    6.0\n",
       "5    NaN\n",
       "6    NaN\n",
       "dtype: float64"
      ]
     },
     "execution_count": 82,
     "metadata": {},
     "output_type": "execute_result"
    }
   ],
   "source": [
    "s3 - s4"
   ]
  },
  {
   "cell_type": "code",
   "execution_count": 83,
   "metadata": {
    "collapsed": true
   },
   "outputs": [],
   "source": [
    "s5 = pd.Series([20, 40, 50, 70],\n",
    "               index=['Green', 'Blue', 'Yellow', 'Red'])"
   ]
  },
  {
   "cell_type": "code",
   "execution_count": 84,
   "metadata": {},
   "outputs": [
    {
     "data": {
      "text/plain": [
       "Green     20\n",
       "Blue      40\n",
       "Yellow    50\n",
       "Red       70\n",
       "dtype: int64"
      ]
     },
     "execution_count": 84,
     "metadata": {},
     "output_type": "execute_result"
    }
   ],
   "source": [
    "s5"
   ]
  },
  {
   "cell_type": "code",
   "execution_count": 85,
   "metadata": {
    "collapsed": true
   },
   "outputs": [],
   "source": [
    "s6 = pd.Series([14, 24, 56, 48],\n",
    "               index=['Green', 'Blue', 'Magenta', 'Pink'])"
   ]
  },
  {
   "cell_type": "code",
   "execution_count": 86,
   "metadata": {},
   "outputs": [
    {
     "data": {
      "text/plain": [
       "Green      14\n",
       "Blue       24\n",
       "Magenta    56\n",
       "Pink       48\n",
       "dtype: int64"
      ]
     },
     "execution_count": 86,
     "metadata": {},
     "output_type": "execute_result"
    }
   ],
   "source": [
    "s6"
   ]
  },
  {
   "cell_type": "code",
   "execution_count": 87,
   "metadata": {},
   "outputs": [
    {
     "data": {
      "text/plain": [
       "Blue       64.0\n",
       "Green      34.0\n",
       "Magenta     NaN\n",
       "Pink        NaN\n",
       "Red         NaN\n",
       "Yellow      NaN\n",
       "dtype: float64"
      ]
     },
     "execution_count": 87,
     "metadata": {},
     "output_type": "execute_result"
    }
   ],
   "source": [
    "s5 + s6"
   ]
  },
  {
   "cell_type": "code",
   "execution_count": 88,
   "metadata": {},
   "outputs": [
    {
     "data": {
      "text/plain": [
       "0    1\n",
       "1    2\n",
       "2    3\n",
       "3    4\n",
       "4    5\n",
       "dtype: int64"
      ]
     },
     "execution_count": 88,
     "metadata": {},
     "output_type": "execute_result"
    }
   ],
   "source": [
    "s1"
   ]
  },
  {
   "cell_type": "code",
   "execution_count": 90,
   "metadata": {},
   "outputs": [
    {
     "data": {
      "text/plain": [
       "0    1\n",
       "1    2\n",
       "2    3\n",
       "dtype: int64"
      ]
     },
     "execution_count": 90,
     "metadata": {},
     "output_type": "execute_result"
    }
   ],
   "source": [
    "s1[0:3]"
   ]
  },
  {
   "cell_type": "code",
   "execution_count": 91,
   "metadata": {},
   "outputs": [
    {
     "data": {
      "text/plain": [
       "Green     20\n",
       "Blue      40\n",
       "Yellow    50\n",
       "Red       70\n",
       "dtype: int64"
      ]
     },
     "execution_count": 91,
     "metadata": {},
     "output_type": "execute_result"
    }
   ],
   "source": [
    "s5"
   ]
  },
  {
   "cell_type": "code",
   "execution_count": 92,
   "metadata": {},
   "outputs": [
    {
     "data": {
      "text/plain": [
       "Green     20\n",
       "Blue      40\n",
       "Yellow    50\n",
       "dtype: int64"
      ]
     },
     "execution_count": 92,
     "metadata": {},
     "output_type": "execute_result"
    }
   ],
   "source": [
    "s5[:'Yellow']"
   ]
  },
  {
   "cell_type": "code",
   "execution_count": 93,
   "metadata": {},
   "outputs": [
    {
     "data": {
      "text/plain": [
       "RangeIndex(start=0, stop=5, step=1)"
      ]
     },
     "execution_count": 93,
     "metadata": {},
     "output_type": "execute_result"
    }
   ],
   "source": [
    "s1.index"
   ]
  },
  {
   "cell_type": "code",
   "execution_count": 94,
   "metadata": {},
   "outputs": [
    {
     "data": {
      "text/plain": [
       "Index([u'Green', u'Blue', u'Yellow', u'Red'], dtype='object')"
      ]
     },
     "execution_count": 94,
     "metadata": {},
     "output_type": "execute_result"
    }
   ],
   "source": [
    "s5.index"
   ]
  },
  {
   "cell_type": "code",
   "execution_count": 95,
   "metadata": {},
   "outputs": [
    {
     "data": {
      "text/plain": [
       "0    1\n",
       "1    2\n",
       "2    3\n",
       "3    4\n",
       "4    5\n",
       "dtype: int64"
      ]
     },
     "execution_count": 95,
     "metadata": {},
     "output_type": "execute_result"
    }
   ],
   "source": [
    "s1"
   ]
  },
  {
   "cell_type": "code",
   "execution_count": 96,
   "metadata": {},
   "outputs": [
    {
     "data": {
      "text/plain": [
       "0    False\n",
       "1    False\n",
       "2    False\n",
       "3     True\n",
       "4     True\n",
       "dtype: bool"
      ]
     },
     "execution_count": 96,
     "metadata": {},
     "output_type": "execute_result"
    }
   ],
   "source": [
    "s1 > 3"
   ]
  },
  {
   "cell_type": "code",
   "execution_count": 100,
   "metadata": {
    "collapsed": true
   },
   "outputs": [],
   "source": [
    "idx = s1 <= 3"
   ]
  },
  {
   "cell_type": "code",
   "execution_count": 102,
   "metadata": {},
   "outputs": [
    {
     "data": {
      "text/plain": [
       "0     True\n",
       "1     True\n",
       "2     True\n",
       "3    False\n",
       "4    False\n",
       "dtype: bool"
      ]
     },
     "execution_count": 102,
     "metadata": {},
     "output_type": "execute_result"
    }
   ],
   "source": [
    "idx"
   ]
  },
  {
   "cell_type": "code",
   "execution_count": 103,
   "metadata": {},
   "outputs": [
    {
     "data": {
      "text/plain": [
       "0    1\n",
       "1    2\n",
       "2    3\n",
       "dtype: int64"
      ]
     },
     "execution_count": 103,
     "metadata": {},
     "output_type": "execute_result"
    }
   ],
   "source": [
    "s1[idx]"
   ]
  },
  {
   "cell_type": "code",
   "execution_count": 104,
   "metadata": {
    "collapsed": true
   },
   "outputs": [],
   "source": [
    "s7 = s5 + s6"
   ]
  },
  {
   "cell_type": "code",
   "execution_count": 105,
   "metadata": {},
   "outputs": [
    {
     "data": {
      "text/plain": [
       "Blue       64.0\n",
       "Green      34.0\n",
       "Magenta     NaN\n",
       "Pink        NaN\n",
       "Red         NaN\n",
       "Yellow      NaN\n",
       "dtype: float64"
      ]
     },
     "execution_count": 105,
     "metadata": {},
     "output_type": "execute_result"
    }
   ],
   "source": [
    "s7"
   ]
  },
  {
   "cell_type": "code",
   "execution_count": 106,
   "metadata": {},
   "outputs": [
    {
     "data": {
      "text/plain": [
       "Blue       False\n",
       "Green      False\n",
       "Magenta     True\n",
       "Pink        True\n",
       "Red         True\n",
       "Yellow      True\n",
       "dtype: bool"
      ]
     },
     "execution_count": 106,
     "metadata": {},
     "output_type": "execute_result"
    }
   ],
   "source": [
    "s7.isnull()"
   ]
  },
  {
   "cell_type": "code",
   "execution_count": 107,
   "metadata": {
    "collapsed": true
   },
   "outputs": [],
   "source": [
    "idx = s7.isnull()"
   ]
  },
  {
   "cell_type": "code",
   "execution_count": 108,
   "metadata": {},
   "outputs": [
    {
     "data": {
      "text/plain": [
       "Blue       False\n",
       "Green      False\n",
       "Magenta     True\n",
       "Pink        True\n",
       "Red         True\n",
       "Yellow      True\n",
       "dtype: bool"
      ]
     },
     "execution_count": 108,
     "metadata": {},
     "output_type": "execute_result"
    }
   ],
   "source": [
    "idx"
   ]
  },
  {
   "cell_type": "code",
   "execution_count": 109,
   "metadata": {},
   "outputs": [
    {
     "data": {
      "text/plain": [
       "Magenta   NaN\n",
       "Pink      NaN\n",
       "Red       NaN\n",
       "Yellow    NaN\n",
       "dtype: float64"
      ]
     },
     "execution_count": 109,
     "metadata": {},
     "output_type": "execute_result"
    }
   ],
   "source": [
    "s7[idx]"
   ]
  },
  {
   "cell_type": "code",
   "execution_count": 110,
   "metadata": {},
   "outputs": [
    {
     "data": {
      "text/plain": [
       "Blue     64.0\n",
       "Green    34.0\n",
       "dtype: float64"
      ]
     },
     "execution_count": 110,
     "metadata": {},
     "output_type": "execute_result"
    }
   ],
   "source": [
    "s7[~idx]"
   ]
  },
  {
   "cell_type": "code",
   "execution_count": 111,
   "metadata": {},
   "outputs": [
    {
     "data": {
      "text/plain": [
       "Blue     64.0\n",
       "Green    34.0\n",
       "dtype: float64"
      ]
     },
     "execution_count": 111,
     "metadata": {},
     "output_type": "execute_result"
    }
   ],
   "source": [
    "s7[~s7.isnull()]"
   ]
  },
  {
   "cell_type": "code",
   "execution_count": 112,
   "metadata": {},
   "outputs": [
    {
     "data": {
      "text/plain": [
       "0    1\n",
       "1    2\n",
       "2    3\n",
       "dtype: int64"
      ]
     },
     "execution_count": 112,
     "metadata": {},
     "output_type": "execute_result"
    }
   ],
   "source": [
    "s1[s1<=3]"
   ]
  },
  {
   "cell_type": "code",
   "execution_count": 120,
   "metadata": {},
   "outputs": [
    {
     "data": {
      "text/plain": [
       "Blue     64.0\n",
       "Green    34.0\n",
       "dtype: float64"
      ]
     },
     "execution_count": 120,
     "metadata": {},
     "output_type": "execute_result"
    }
   ],
   "source": [
    "s7[(s7>40) | (~s7.isnull())]"
   ]
  },
  {
   "cell_type": "code",
   "execution_count": 135,
   "metadata": {},
   "outputs": [],
   "source": [
    "data = pd.read_csv('sp500.csv', index_col=0)"
   ]
  },
  {
   "cell_type": "code",
   "execution_count": 136,
   "metadata": {},
   "outputs": [
    {
     "data": {
      "text/html": [
       "<div>\n",
       "<style>\n",
       "    .dataframe thead tr:only-child th {\n",
       "        text-align: right;\n",
       "    }\n",
       "\n",
       "    .dataframe thead th {\n",
       "        text-align: left;\n",
       "    }\n",
       "\n",
       "    .dataframe tbody tr th {\n",
       "        vertical-align: top;\n",
       "    }\n",
       "</style>\n",
       "<table border=\"1\" class=\"dataframe\">\n",
       "  <thead>\n",
       "    <tr style=\"text-align: right;\">\n",
       "      <th></th>\n",
       "      <th>Name</th>\n",
       "      <th>Sector</th>\n",
       "      <th>Price</th>\n",
       "      <th>Dividend Yield</th>\n",
       "      <th>Price/Earnings</th>\n",
       "      <th>Earnings/Share</th>\n",
       "      <th>Book Value</th>\n",
       "      <th>52 week low</th>\n",
       "      <th>52 week high</th>\n",
       "      <th>Market Cap</th>\n",
       "      <th>EBITDA</th>\n",
       "      <th>Price/Sales</th>\n",
       "      <th>Price/Book</th>\n",
       "      <th>SEC Filings</th>\n",
       "    </tr>\n",
       "    <tr>\n",
       "      <th>Symbol</th>\n",
       "      <th></th>\n",
       "      <th></th>\n",
       "      <th></th>\n",
       "      <th></th>\n",
       "      <th></th>\n",
       "      <th></th>\n",
       "      <th></th>\n",
       "      <th></th>\n",
       "      <th></th>\n",
       "      <th></th>\n",
       "      <th></th>\n",
       "      <th></th>\n",
       "      <th></th>\n",
       "      <th></th>\n",
       "    </tr>\n",
       "  </thead>\n",
       "  <tbody>\n",
       "    <tr>\n",
       "      <th>MMM</th>\n",
       "      <td>3M Co.</td>\n",
       "      <td>Industrials</td>\n",
       "      <td>141.14</td>\n",
       "      <td>2.12</td>\n",
       "      <td>20.33</td>\n",
       "      <td>6.900</td>\n",
       "      <td>26.668</td>\n",
       "      <td>107.15</td>\n",
       "      <td>143.37</td>\n",
       "      <td>92.345</td>\n",
       "      <td>8.1210</td>\n",
       "      <td>2.95</td>\n",
       "      <td>5.26</td>\n",
       "      <td>http://www.sec.gov/cgi-bin/browse-edgar?action...</td>\n",
       "    </tr>\n",
       "    <tr>\n",
       "      <th>ABT</th>\n",
       "      <td>Abbott Laboratories</td>\n",
       "      <td>Health Care</td>\n",
       "      <td>39.60</td>\n",
       "      <td>1.82</td>\n",
       "      <td>25.93</td>\n",
       "      <td>1.529</td>\n",
       "      <td>15.573</td>\n",
       "      <td>32.70</td>\n",
       "      <td>40.49</td>\n",
       "      <td>59.477</td>\n",
       "      <td>4.3590</td>\n",
       "      <td>2.74</td>\n",
       "      <td>2.55</td>\n",
       "      <td>http://www.sec.gov/cgi-bin/browse-edgar?action...</td>\n",
       "    </tr>\n",
       "    <tr>\n",
       "      <th>ABBV</th>\n",
       "      <td>AbbVie Inc.</td>\n",
       "      <td>Health Care</td>\n",
       "      <td>53.95</td>\n",
       "      <td>3.02</td>\n",
       "      <td>20.87</td>\n",
       "      <td>2.570</td>\n",
       "      <td>2.954</td>\n",
       "      <td>40.10</td>\n",
       "      <td>54.78</td>\n",
       "      <td>85.784</td>\n",
       "      <td>7.1900</td>\n",
       "      <td>4.48</td>\n",
       "      <td>18.16</td>\n",
       "      <td>http://www.sec.gov/cgi-bin/browse-edgar?action...</td>\n",
       "    </tr>\n",
       "    <tr>\n",
       "      <th>ACN</th>\n",
       "      <td>Accenture</td>\n",
       "      <td>Information Technology</td>\n",
       "      <td>79.79</td>\n",
       "      <td>2.34</td>\n",
       "      <td>19.53</td>\n",
       "      <td>4.068</td>\n",
       "      <td>8.326</td>\n",
       "      <td>69.00</td>\n",
       "      <td>85.88</td>\n",
       "      <td>50.513</td>\n",
       "      <td>4.4230</td>\n",
       "      <td>1.75</td>\n",
       "      <td>9.54</td>\n",
       "      <td>http://www.sec.gov/cgi-bin/browse-edgar?action...</td>\n",
       "    </tr>\n",
       "    <tr>\n",
       "      <th>ACE</th>\n",
       "      <td>ACE Limited</td>\n",
       "      <td>Financials</td>\n",
       "      <td>102.91</td>\n",
       "      <td>2.21</td>\n",
       "      <td>10.00</td>\n",
       "      <td>10.293</td>\n",
       "      <td>86.897</td>\n",
       "      <td>84.73</td>\n",
       "      <td>104.07</td>\n",
       "      <td>34.753</td>\n",
       "      <td>4.2750</td>\n",
       "      <td>1.79</td>\n",
       "      <td>1.18</td>\n",
       "      <td>http://www.sec.gov/cgi-bin/browse-edgar?action...</td>\n",
       "    </tr>\n",
       "    <tr>\n",
       "      <th>ACT</th>\n",
       "      <td>Actavis Inc</td>\n",
       "      <td>Health Care</td>\n",
       "      <td>213.77</td>\n",
       "      <td>NaN</td>\n",
       "      <td>NaN</td>\n",
       "      <td>-3.597</td>\n",
       "      <td>55.188</td>\n",
       "      <td>118.68</td>\n",
       "      <td>230.77</td>\n",
       "      <td>37.291</td>\n",
       "      <td>2.4770</td>\n",
       "      <td>3.93</td>\n",
       "      <td>3.85</td>\n",
       "      <td>http://www.sec.gov/cgi-bin/browse-edgar?action...</td>\n",
       "    </tr>\n",
       "    <tr>\n",
       "      <th>ADBE</th>\n",
       "      <td>Adobe Systems Inc</td>\n",
       "      <td>Information Technology</td>\n",
       "      <td>64.30</td>\n",
       "      <td>NaN</td>\n",
       "      <td>121.44</td>\n",
       "      <td>0.520</td>\n",
       "      <td>13.262</td>\n",
       "      <td>41.91</td>\n",
       "      <td>71.11</td>\n",
       "      <td>32.004</td>\n",
       "      <td>0.7525</td>\n",
       "      <td>7.77</td>\n",
       "      <td>4.76</td>\n",
       "      <td>http://www.sec.gov/cgi-bin/browse-edgar?action...</td>\n",
       "    </tr>\n",
       "    <tr>\n",
       "      <th>AES</th>\n",
       "      <td>AES Corp</td>\n",
       "      <td>Utilities</td>\n",
       "      <td>13.61</td>\n",
       "      <td>1.32</td>\n",
       "      <td>NaN</td>\n",
       "      <td>-0.040</td>\n",
       "      <td>5.781</td>\n",
       "      <td>11.17</td>\n",
       "      <td>15.54</td>\n",
       "      <td>9.872</td>\n",
       "      <td>4.2910</td>\n",
       "      <td>0.62</td>\n",
       "      <td>2.37</td>\n",
       "      <td>http://www.sec.gov/cgi-bin/browse-edgar?action...</td>\n",
       "    </tr>\n",
       "    <tr>\n",
       "      <th>AET</th>\n",
       "      <td>Aetna Inc</td>\n",
       "      <td>Health Care</td>\n",
       "      <td>76.39</td>\n",
       "      <td>1.13</td>\n",
       "      <td>13.29</td>\n",
       "      <td>5.681</td>\n",
       "      <td>40.021</td>\n",
       "      <td>57.72</td>\n",
       "      <td>76.71</td>\n",
       "      <td>27.302</td>\n",
       "      <td>4.7370</td>\n",
       "      <td>0.52</td>\n",
       "      <td>1.89</td>\n",
       "      <td>http://www.sec.gov/cgi-bin/browse-edgar?action...</td>\n",
       "    </tr>\n",
       "    <tr>\n",
       "      <th>AFL</th>\n",
       "      <td>AFLAC Inc</td>\n",
       "      <td>Financials</td>\n",
       "      <td>61.31</td>\n",
       "      <td>2.36</td>\n",
       "      <td>9.58</td>\n",
       "      <td>6.459</td>\n",
       "      <td>34.527</td>\n",
       "      <td>54.02</td>\n",
       "      <td>67.62</td>\n",
       "      <td>27.844</td>\n",
       "      <td>4.7130</td>\n",
       "      <td>1.21</td>\n",
       "      <td>1.79</td>\n",
       "      <td>http://www.sec.gov/cgi-bin/browse-edgar?action...</td>\n",
       "    </tr>\n",
       "  </tbody>\n",
       "</table>\n",
       "</div>"
      ],
      "text/plain": [
       "                       Name                  Sector   Price  Dividend Yield  \\\n",
       "Symbol                                                                        \n",
       "MMM                  3M Co.             Industrials  141.14            2.12   \n",
       "ABT     Abbott Laboratories             Health Care   39.60            1.82   \n",
       "ABBV            AbbVie Inc.             Health Care   53.95            3.02   \n",
       "ACN               Accenture  Information Technology   79.79            2.34   \n",
       "ACE             ACE Limited              Financials  102.91            2.21   \n",
       "ACT             Actavis Inc             Health Care  213.77             NaN   \n",
       "ADBE      Adobe Systems Inc  Information Technology   64.30             NaN   \n",
       "AES                AES Corp               Utilities   13.61            1.32   \n",
       "AET               Aetna Inc             Health Care   76.39            1.13   \n",
       "AFL               AFLAC Inc              Financials   61.31            2.36   \n",
       "\n",
       "        Price/Earnings  Earnings/Share  Book Value  52 week low  52 week high  \\\n",
       "Symbol                                                                          \n",
       "MMM              20.33           6.900      26.668       107.15        143.37   \n",
       "ABT              25.93           1.529      15.573        32.70         40.49   \n",
       "ABBV             20.87           2.570       2.954        40.10         54.78   \n",
       "ACN              19.53           4.068       8.326        69.00         85.88   \n",
       "ACE              10.00          10.293      86.897        84.73        104.07   \n",
       "ACT                NaN          -3.597      55.188       118.68        230.77   \n",
       "ADBE            121.44           0.520      13.262        41.91         71.11   \n",
       "AES                NaN          -0.040       5.781        11.17         15.54   \n",
       "AET              13.29           5.681      40.021        57.72         76.71   \n",
       "AFL               9.58           6.459      34.527        54.02         67.62   \n",
       "\n",
       "        Market Cap  EBITDA  Price/Sales  Price/Book  \\\n",
       "Symbol                                                \n",
       "MMM         92.345  8.1210         2.95        5.26   \n",
       "ABT         59.477  4.3590         2.74        2.55   \n",
       "ABBV        85.784  7.1900         4.48       18.16   \n",
       "ACN         50.513  4.4230         1.75        9.54   \n",
       "ACE         34.753  4.2750         1.79        1.18   \n",
       "ACT         37.291  2.4770         3.93        3.85   \n",
       "ADBE        32.004  0.7525         7.77        4.76   \n",
       "AES          9.872  4.2910         0.62        2.37   \n",
       "AET         27.302  4.7370         0.52        1.89   \n",
       "AFL         27.844  4.7130         1.21        1.79   \n",
       "\n",
       "                                              SEC Filings  \n",
       "Symbol                                                     \n",
       "MMM     http://www.sec.gov/cgi-bin/browse-edgar?action...  \n",
       "ABT     http://www.sec.gov/cgi-bin/browse-edgar?action...  \n",
       "ABBV    http://www.sec.gov/cgi-bin/browse-edgar?action...  \n",
       "ACN     http://www.sec.gov/cgi-bin/browse-edgar?action...  \n",
       "ACE     http://www.sec.gov/cgi-bin/browse-edgar?action...  \n",
       "ACT     http://www.sec.gov/cgi-bin/browse-edgar?action...  \n",
       "ADBE    http://www.sec.gov/cgi-bin/browse-edgar?action...  \n",
       "AES     http://www.sec.gov/cgi-bin/browse-edgar?action...  \n",
       "AET     http://www.sec.gov/cgi-bin/browse-edgar?action...  \n",
       "AFL     http://www.sec.gov/cgi-bin/browse-edgar?action...  "
      ]
     },
     "execution_count": 136,
     "metadata": {},
     "output_type": "execute_result"
    }
   ],
   "source": [
    "data.head(n=10)"
   ]
  },
  {
   "cell_type": "code",
   "execution_count": 138,
   "metadata": {},
   "outputs": [
    {
     "data": {
      "text/plain": [
       "Index([u'MMM', u'ABT', u'ABBV', u'ACN', u'ACE', u'ACT', u'ADBE', u'AES',\n",
       "       u'AET', u'AFL',\n",
       "       ...\n",
       "       u'XEL', u'XRX', u'XLNX', u'XL', u'XYL', u'YHOO', u'YUM', u'ZMH',\n",
       "       u'ZION', u'ZTS'],\n",
       "      dtype='object', name=u'Symbol', length=500)"
      ]
     },
     "execution_count": 138,
     "metadata": {},
     "output_type": "execute_result"
    }
   ],
   "source": [
    "data.index"
   ]
  },
  {
   "cell_type": "code",
   "execution_count": 139,
   "metadata": {},
   "outputs": [
    {
     "data": {
      "text/plain": [
       "Symbol\n",
       "MMM                           3M Co.\n",
       "ABT              Abbott Laboratories\n",
       "ABBV                     AbbVie Inc.\n",
       "ACN                        Accenture\n",
       "ACE                      ACE Limited\n",
       "ACT                      Actavis Inc\n",
       "ADBE               Adobe Systems Inc\n",
       "AES                         AES Corp\n",
       "AET                        Aetna Inc\n",
       "AFL                        AFLAC Inc\n",
       "A           Agilent Technologies Inc\n",
       "GAS               AGL Resources Inc.\n",
       "APD     Air Products & Chemicals Inc\n",
       "ARG                       Airgas Inc\n",
       "AKAM         Akamai Technologies Inc\n",
       "AA                         Alcoa Inc\n",
       "ALXN         Alexion Pharmaceuticals\n",
       "ATI       Allegheny Technologies Inc\n",
       "ALLE                    Allegion plc\n",
       "AGN                     Allergan Inc\n",
       "ADS       Alliance Data Systems Corp\n",
       "ALL                    Allstate Corp\n",
       "ALTR                     Altera Corp\n",
       "MO                  Altria Group Inc\n",
       "AMZN                  Amazon.com Inc\n",
       "AEE                      Ameren Corp\n",
       "AEP          American Electric Power\n",
       "AXP              American Express Co\n",
       "AIG          American Intl Group Inc\n",
       "AMT            American Tower Corp A\n",
       "                    ...             \n",
       "VIAB                     Viacom Inc.\n",
       "V                          Visa Inc.\n",
       "VNO             Vornado Realty Trust\n",
       "VMC                 Vulcan Materials\n",
       "WMT                  Wal-Mart Stores\n",
       "WAG                     Walgreen Co.\n",
       "DIS                  Walt Disney Co.\n",
       "WM             Waste Management Inc.\n",
       "WAT               Waters Corporation\n",
       "WLP                   WellPoint Inc.\n",
       "WFC                      Wells Fargo\n",
       "WDC                  Western Digital\n",
       "WU                  Western Union Co\n",
       "WY                Weyerhaeuser Corp.\n",
       "WHR                  Whirlpool Corp.\n",
       "WFM               Whole Foods Market\n",
       "WIN           Windstream Corporation\n",
       "WEC     Wisconsin Energy Corporation\n",
       "WYN                Wyndham Worldwide\n",
       "WYNN                Wynn Resorts Ltd\n",
       "XEL                  Xcel Energy Inc\n",
       "XRX                      Xerox Corp.\n",
       "XLNX                      Xilinx Inc\n",
       "XL                        XL Capital\n",
       "XYL                       Xylem Inc.\n",
       "YHOO                      Yahoo Inc.\n",
       "YUM                  Yum! Brands Inc\n",
       "ZMH                  Zimmer Holdings\n",
       "ZION                   Zions Bancorp\n",
       "ZTS                       Zoetis Inc\n",
       "Name: Name, Length: 500, dtype: object"
      ]
     },
     "execution_count": 139,
     "metadata": {},
     "output_type": "execute_result"
    }
   ],
   "source": [
    "data['Name']"
   ]
  },
  {
   "cell_type": "code",
   "execution_count": 140,
   "metadata": {},
   "outputs": [
    {
     "data": {
      "text/plain": [
       "Symbol\n",
       "MMM     141.14\n",
       "ABT      39.60\n",
       "ABBV     53.95\n",
       "ACN      79.79\n",
       "ACE     102.91\n",
       "ACT     213.77\n",
       "ADBE     64.30\n",
       "AES      13.61\n",
       "AET      76.39\n",
       "AFL      61.31\n",
       "A        56.18\n",
       "GAS      52.98\n",
       "APD     118.74\n",
       "ARG     105.66\n",
       "AKAM     53.65\n",
       "AA       13.52\n",
       "ALXN    162.30\n",
       "ATI      40.99\n",
       "ALLE     52.46\n",
       "AGN     166.92\n",
       "ADS     248.88\n",
       "ALL      58.38\n",
       "ALTR     33.31\n",
       "MO       40.68\n",
       "AMZN    312.24\n",
       "AEE      38.64\n",
       "AEP      51.41\n",
       "AXP      88.78\n",
       "AIG      53.60\n",
       "AMT      88.41\n",
       "         ...  \n",
       "VIAB     84.99\n",
       "V       212.07\n",
       "VNO     105.32\n",
       "VMC      61.19\n",
       "WMT      75.61\n",
       "WAG      69.79\n",
       "DIS      83.32\n",
       "WM       43.37\n",
       "WAT     100.54\n",
       "WLP     108.82\n",
       "WFC      50.16\n",
       "WDC      84.83\n",
       "WU       15.77\n",
       "WY       30.87\n",
       "WHR     147.26\n",
       "WFM      37.78\n",
       "WIN       9.38\n",
       "WEC      45.13\n",
       "WYN      72.22\n",
       "WYNN    207.86\n",
       "XEL      30.24\n",
       "XRX      12.06\n",
       "XLNX     46.03\n",
       "XL       32.47\n",
       "XYL      38.42\n",
       "YHOO     35.02\n",
       "YUM      74.77\n",
       "ZMH     101.84\n",
       "ZION     28.43\n",
       "ZTS      30.53\n",
       "Name: Price, Length: 500, dtype: float64"
      ]
     },
     "execution_count": 140,
     "metadata": {},
     "output_type": "execute_result"
    }
   ],
   "source": [
    "data['Price']"
   ]
  },
  {
   "cell_type": "code",
   "execution_count": 142,
   "metadata": {},
   "outputs": [
    {
     "data": {
      "text/html": [
       "<div>\n",
       "<style>\n",
       "    .dataframe thead tr:only-child th {\n",
       "        text-align: right;\n",
       "    }\n",
       "\n",
       "    .dataframe thead th {\n",
       "        text-align: left;\n",
       "    }\n",
       "\n",
       "    .dataframe tbody tr th {\n",
       "        vertical-align: top;\n",
       "    }\n",
       "</style>\n",
       "<table border=\"1\" class=\"dataframe\">\n",
       "  <thead>\n",
       "    <tr style=\"text-align: right;\">\n",
       "      <th></th>\n",
       "      <th>Name</th>\n",
       "      <th>Price</th>\n",
       "      <th>Book Value</th>\n",
       "    </tr>\n",
       "    <tr>\n",
       "      <th>Symbol</th>\n",
       "      <th></th>\n",
       "      <th></th>\n",
       "      <th></th>\n",
       "    </tr>\n",
       "  </thead>\n",
       "  <tbody>\n",
       "    <tr>\n",
       "      <th>MMM</th>\n",
       "      <td>3M Co.</td>\n",
       "      <td>141.14</td>\n",
       "      <td>26.668</td>\n",
       "    </tr>\n",
       "    <tr>\n",
       "      <th>ABT</th>\n",
       "      <td>Abbott Laboratories</td>\n",
       "      <td>39.60</td>\n",
       "      <td>15.573</td>\n",
       "    </tr>\n",
       "    <tr>\n",
       "      <th>ABBV</th>\n",
       "      <td>AbbVie Inc.</td>\n",
       "      <td>53.95</td>\n",
       "      <td>2.954</td>\n",
       "    </tr>\n",
       "    <tr>\n",
       "      <th>ACN</th>\n",
       "      <td>Accenture</td>\n",
       "      <td>79.79</td>\n",
       "      <td>8.326</td>\n",
       "    </tr>\n",
       "    <tr>\n",
       "      <th>ACE</th>\n",
       "      <td>ACE Limited</td>\n",
       "      <td>102.91</td>\n",
       "      <td>86.897</td>\n",
       "    </tr>\n",
       "    <tr>\n",
       "      <th>ACT</th>\n",
       "      <td>Actavis Inc</td>\n",
       "      <td>213.77</td>\n",
       "      <td>55.188</td>\n",
       "    </tr>\n",
       "    <tr>\n",
       "      <th>ADBE</th>\n",
       "      <td>Adobe Systems Inc</td>\n",
       "      <td>64.30</td>\n",
       "      <td>13.262</td>\n",
       "    </tr>\n",
       "    <tr>\n",
       "      <th>AES</th>\n",
       "      <td>AES Corp</td>\n",
       "      <td>13.61</td>\n",
       "      <td>5.781</td>\n",
       "    </tr>\n",
       "    <tr>\n",
       "      <th>AET</th>\n",
       "      <td>Aetna Inc</td>\n",
       "      <td>76.39</td>\n",
       "      <td>40.021</td>\n",
       "    </tr>\n",
       "    <tr>\n",
       "      <th>AFL</th>\n",
       "      <td>AFLAC Inc</td>\n",
       "      <td>61.31</td>\n",
       "      <td>34.527</td>\n",
       "    </tr>\n",
       "    <tr>\n",
       "      <th>A</th>\n",
       "      <td>Agilent Technologies Inc</td>\n",
       "      <td>56.18</td>\n",
       "      <td>16.928</td>\n",
       "    </tr>\n",
       "    <tr>\n",
       "      <th>GAS</th>\n",
       "      <td>AGL Resources Inc.</td>\n",
       "      <td>52.98</td>\n",
       "      <td>32.462</td>\n",
       "    </tr>\n",
       "    <tr>\n",
       "      <th>APD</th>\n",
       "      <td>Air Products &amp; Chemicals Inc</td>\n",
       "      <td>118.74</td>\n",
       "      <td>34.723</td>\n",
       "    </tr>\n",
       "    <tr>\n",
       "      <th>ARG</th>\n",
       "      <td>Airgas Inc</td>\n",
       "      <td>105.66</td>\n",
       "      <td>24.882</td>\n",
       "    </tr>\n",
       "    <tr>\n",
       "      <th>AKAM</th>\n",
       "      <td>Akamai Technologies Inc</td>\n",
       "      <td>53.65</td>\n",
       "      <td>15.193</td>\n",
       "    </tr>\n",
       "    <tr>\n",
       "      <th>AA</th>\n",
       "      <td>Alcoa Inc</td>\n",
       "      <td>13.52</td>\n",
       "      <td>9.670</td>\n",
       "    </tr>\n",
       "    <tr>\n",
       "      <th>ALXN</th>\n",
       "      <td>Alexion Pharmaceuticals</td>\n",
       "      <td>162.30</td>\n",
       "      <td>13.628</td>\n",
       "    </tr>\n",
       "    <tr>\n",
       "      <th>ATI</th>\n",
       "      <td>Allegheny Technologies Inc</td>\n",
       "      <td>40.99</td>\n",
       "      <td>26.401</td>\n",
       "    </tr>\n",
       "    <tr>\n",
       "      <th>ALLE</th>\n",
       "      <td>Allegion plc</td>\n",
       "      <td>52.46</td>\n",
       "      <td>0.000</td>\n",
       "    </tr>\n",
       "    <tr>\n",
       "      <th>AGN</th>\n",
       "      <td>Allergan Inc</td>\n",
       "      <td>166.92</td>\n",
       "      <td>22.207</td>\n",
       "    </tr>\n",
       "    <tr>\n",
       "      <th>ADS</th>\n",
       "      <td>Alliance Data Systems Corp</td>\n",
       "      <td>248.88</td>\n",
       "      <td>17.392</td>\n",
       "    </tr>\n",
       "    <tr>\n",
       "      <th>ALL</th>\n",
       "      <td>Allstate Corp</td>\n",
       "      <td>58.38</td>\n",
       "      <td>47.465</td>\n",
       "    </tr>\n",
       "    <tr>\n",
       "      <th>ALTR</th>\n",
       "      <td>Altera Corp</td>\n",
       "      <td>33.31</td>\n",
       "      <td>11.026</td>\n",
       "    </tr>\n",
       "    <tr>\n",
       "      <th>MO</th>\n",
       "      <td>Altria Group Inc</td>\n",
       "      <td>40.68</td>\n",
       "      <td>2.072</td>\n",
       "    </tr>\n",
       "    <tr>\n",
       "      <th>AMZN</th>\n",
       "      <td>Amazon.com Inc</td>\n",
       "      <td>312.24</td>\n",
       "      <td>22.452</td>\n",
       "    </tr>\n",
       "    <tr>\n",
       "      <th>AEE</th>\n",
       "      <td>Ameren Corp</td>\n",
       "      <td>38.64</td>\n",
       "      <td>26.847</td>\n",
       "    </tr>\n",
       "    <tr>\n",
       "      <th>AEP</th>\n",
       "      <td>American Electric Power</td>\n",
       "      <td>51.41</td>\n",
       "      <td>33.635</td>\n",
       "    </tr>\n",
       "    <tr>\n",
       "      <th>AXP</th>\n",
       "      <td>American Express Co</td>\n",
       "      <td>88.78</td>\n",
       "      <td>18.846</td>\n",
       "    </tr>\n",
       "    <tr>\n",
       "      <th>AIG</th>\n",
       "      <td>American Intl Group Inc</td>\n",
       "      <td>53.60</td>\n",
       "      <td>71.775</td>\n",
       "    </tr>\n",
       "    <tr>\n",
       "      <th>AMT</th>\n",
       "      <td>American Tower Corp A</td>\n",
       "      <td>88.41</td>\n",
       "      <td>9.279</td>\n",
       "    </tr>\n",
       "    <tr>\n",
       "      <th>...</th>\n",
       "      <td>...</td>\n",
       "      <td>...</td>\n",
       "      <td>...</td>\n",
       "    </tr>\n",
       "    <tr>\n",
       "      <th>VIAB</th>\n",
       "      <td>Viacom Inc.</td>\n",
       "      <td>84.99</td>\n",
       "      <td>10.253</td>\n",
       "    </tr>\n",
       "    <tr>\n",
       "      <th>V</th>\n",
       "      <td>Visa Inc.</td>\n",
       "      <td>212.07</td>\n",
       "      <td>43.391</td>\n",
       "    </tr>\n",
       "    <tr>\n",
       "      <th>VNO</th>\n",
       "      <td>Vornado Realty Trust</td>\n",
       "      <td>105.32</td>\n",
       "      <td>28.243</td>\n",
       "    </tr>\n",
       "    <tr>\n",
       "      <th>VMC</th>\n",
       "      <td>Vulcan Materials</td>\n",
       "      <td>61.19</td>\n",
       "      <td>30.819</td>\n",
       "    </tr>\n",
       "    <tr>\n",
       "      <th>WMT</th>\n",
       "      <td>Wal-Mart Stores</td>\n",
       "      <td>75.61</td>\n",
       "      <td>22.607</td>\n",
       "    </tr>\n",
       "    <tr>\n",
       "      <th>WAG</th>\n",
       "      <td>Walgreen Co.</td>\n",
       "      <td>69.79</td>\n",
       "      <td>21.779</td>\n",
       "    </tr>\n",
       "    <tr>\n",
       "      <th>DIS</th>\n",
       "      <td>Walt Disney Co.</td>\n",
       "      <td>83.32</td>\n",
       "      <td>26.405</td>\n",
       "    </tr>\n",
       "    <tr>\n",
       "      <th>WM</th>\n",
       "      <td>Waste Management Inc.</td>\n",
       "      <td>43.37</td>\n",
       "      <td>12.330</td>\n",
       "    </tr>\n",
       "    <tr>\n",
       "      <th>WAT</th>\n",
       "      <td>Waters Corporation</td>\n",
       "      <td>100.54</td>\n",
       "      <td>21.460</td>\n",
       "    </tr>\n",
       "    <tr>\n",
       "      <th>WLP</th>\n",
       "      <td>WellPoint Inc.</td>\n",
       "      <td>108.82</td>\n",
       "      <td>86.358</td>\n",
       "    </tr>\n",
       "    <tr>\n",
       "      <th>WFC</th>\n",
       "      <td>Wells Fargo</td>\n",
       "      <td>50.16</td>\n",
       "      <td>30.479</td>\n",
       "    </tr>\n",
       "    <tr>\n",
       "      <th>WDC</th>\n",
       "      <td>Western Digital</td>\n",
       "      <td>84.83</td>\n",
       "      <td>37.311</td>\n",
       "    </tr>\n",
       "    <tr>\n",
       "      <th>WU</th>\n",
       "      <td>Western Union Co</td>\n",
       "      <td>15.77</td>\n",
       "      <td>1.981</td>\n",
       "    </tr>\n",
       "    <tr>\n",
       "      <th>WY</th>\n",
       "      <td>Weyerhaeuser Corp.</td>\n",
       "      <td>30.87</td>\n",
       "      <td>11.690</td>\n",
       "    </tr>\n",
       "    <tr>\n",
       "      <th>WHR</th>\n",
       "      <td>Whirlpool Corp.</td>\n",
       "      <td>147.26</td>\n",
       "      <td>66.221</td>\n",
       "    </tr>\n",
       "    <tr>\n",
       "      <th>WFM</th>\n",
       "      <td>Whole Foods Market</td>\n",
       "      <td>37.78</td>\n",
       "      <td>10.867</td>\n",
       "    </tr>\n",
       "    <tr>\n",
       "      <th>WIN</th>\n",
       "      <td>Windstream Corporation</td>\n",
       "      <td>9.38</td>\n",
       "      <td>1.199</td>\n",
       "    </tr>\n",
       "    <tr>\n",
       "      <th>WEC</th>\n",
       "      <td>Wisconsin Energy Corporation</td>\n",
       "      <td>45.13</td>\n",
       "      <td>19.165</td>\n",
       "    </tr>\n",
       "    <tr>\n",
       "      <th>WYN</th>\n",
       "      <td>Wyndham Worldwide</td>\n",
       "      <td>72.22</td>\n",
       "      <td>11.984</td>\n",
       "    </tr>\n",
       "    <tr>\n",
       "      <th>WYNN</th>\n",
       "      <td>Wynn Resorts Ltd</td>\n",
       "      <td>207.86</td>\n",
       "      <td>-0.719</td>\n",
       "    </tr>\n",
       "    <tr>\n",
       "      <th>XEL</th>\n",
       "      <td>Xcel Energy Inc</td>\n",
       "      <td>30.24</td>\n",
       "      <td>19.450</td>\n",
       "    </tr>\n",
       "    <tr>\n",
       "      <th>XRX</th>\n",
       "      <td>Xerox Corp.</td>\n",
       "      <td>12.06</td>\n",
       "      <td>10.471</td>\n",
       "    </tr>\n",
       "    <tr>\n",
       "      <th>XLNX</th>\n",
       "      <td>Xilinx Inc</td>\n",
       "      <td>46.03</td>\n",
       "      <td>10.247</td>\n",
       "    </tr>\n",
       "    <tr>\n",
       "      <th>XL</th>\n",
       "      <td>XL Capital</td>\n",
       "      <td>32.47</td>\n",
       "      <td>37.451</td>\n",
       "    </tr>\n",
       "    <tr>\n",
       "      <th>XYL</th>\n",
       "      <td>Xylem Inc.</td>\n",
       "      <td>38.42</td>\n",
       "      <td>12.127</td>\n",
       "    </tr>\n",
       "    <tr>\n",
       "      <th>YHOO</th>\n",
       "      <td>Yahoo Inc.</td>\n",
       "      <td>35.02</td>\n",
       "      <td>12.768</td>\n",
       "    </tr>\n",
       "    <tr>\n",
       "      <th>YUM</th>\n",
       "      <td>Yum! Brands Inc</td>\n",
       "      <td>74.77</td>\n",
       "      <td>5.147</td>\n",
       "    </tr>\n",
       "    <tr>\n",
       "      <th>ZMH</th>\n",
       "      <td>Zimmer Holdings</td>\n",
       "      <td>101.84</td>\n",
       "      <td>37.181</td>\n",
       "    </tr>\n",
       "    <tr>\n",
       "      <th>ZION</th>\n",
       "      <td>Zions Bancorp</td>\n",
       "      <td>28.43</td>\n",
       "      <td>30.191</td>\n",
       "    </tr>\n",
       "    <tr>\n",
       "      <th>ZTS</th>\n",
       "      <td>Zoetis Inc</td>\n",
       "      <td>30.53</td>\n",
       "      <td>2.150</td>\n",
       "    </tr>\n",
       "  </tbody>\n",
       "</table>\n",
       "<p>500 rows × 3 columns</p>\n",
       "</div>"
      ],
      "text/plain": [
       "                                Name   Price  Book Value\n",
       "Symbol                                                  \n",
       "MMM                           3M Co.  141.14      26.668\n",
       "ABT              Abbott Laboratories   39.60      15.573\n",
       "ABBV                     AbbVie Inc.   53.95       2.954\n",
       "ACN                        Accenture   79.79       8.326\n",
       "ACE                      ACE Limited  102.91      86.897\n",
       "ACT                      Actavis Inc  213.77      55.188\n",
       "ADBE               Adobe Systems Inc   64.30      13.262\n",
       "AES                         AES Corp   13.61       5.781\n",
       "AET                        Aetna Inc   76.39      40.021\n",
       "AFL                        AFLAC Inc   61.31      34.527\n",
       "A           Agilent Technologies Inc   56.18      16.928\n",
       "GAS               AGL Resources Inc.   52.98      32.462\n",
       "APD     Air Products & Chemicals Inc  118.74      34.723\n",
       "ARG                       Airgas Inc  105.66      24.882\n",
       "AKAM         Akamai Technologies Inc   53.65      15.193\n",
       "AA                         Alcoa Inc   13.52       9.670\n",
       "ALXN         Alexion Pharmaceuticals  162.30      13.628\n",
       "ATI       Allegheny Technologies Inc   40.99      26.401\n",
       "ALLE                    Allegion plc   52.46       0.000\n",
       "AGN                     Allergan Inc  166.92      22.207\n",
       "ADS       Alliance Data Systems Corp  248.88      17.392\n",
       "ALL                    Allstate Corp   58.38      47.465\n",
       "ALTR                     Altera Corp   33.31      11.026\n",
       "MO                  Altria Group Inc   40.68       2.072\n",
       "AMZN                  Amazon.com Inc  312.24      22.452\n",
       "AEE                      Ameren Corp   38.64      26.847\n",
       "AEP          American Electric Power   51.41      33.635\n",
       "AXP              American Express Co   88.78      18.846\n",
       "AIG          American Intl Group Inc   53.60      71.775\n",
       "AMT            American Tower Corp A   88.41       9.279\n",
       "...                              ...     ...         ...\n",
       "VIAB                     Viacom Inc.   84.99      10.253\n",
       "V                          Visa Inc.  212.07      43.391\n",
       "VNO             Vornado Realty Trust  105.32      28.243\n",
       "VMC                 Vulcan Materials   61.19      30.819\n",
       "WMT                  Wal-Mart Stores   75.61      22.607\n",
       "WAG                     Walgreen Co.   69.79      21.779\n",
       "DIS                  Walt Disney Co.   83.32      26.405\n",
       "WM             Waste Management Inc.   43.37      12.330\n",
       "WAT               Waters Corporation  100.54      21.460\n",
       "WLP                   WellPoint Inc.  108.82      86.358\n",
       "WFC                      Wells Fargo   50.16      30.479\n",
       "WDC                  Western Digital   84.83      37.311\n",
       "WU                  Western Union Co   15.77       1.981\n",
       "WY                Weyerhaeuser Corp.   30.87      11.690\n",
       "WHR                  Whirlpool Corp.  147.26      66.221\n",
       "WFM               Whole Foods Market   37.78      10.867\n",
       "WIN           Windstream Corporation    9.38       1.199\n",
       "WEC     Wisconsin Energy Corporation   45.13      19.165\n",
       "WYN                Wyndham Worldwide   72.22      11.984\n",
       "WYNN                Wynn Resorts Ltd  207.86      -0.719\n",
       "XEL                  Xcel Energy Inc   30.24      19.450\n",
       "XRX                      Xerox Corp.   12.06      10.471\n",
       "XLNX                      Xilinx Inc   46.03      10.247\n",
       "XL                        XL Capital   32.47      37.451\n",
       "XYL                       Xylem Inc.   38.42      12.127\n",
       "YHOO                      Yahoo Inc.   35.02      12.768\n",
       "YUM                  Yum! Brands Inc   74.77       5.147\n",
       "ZMH                  Zimmer Holdings  101.84      37.181\n",
       "ZION                   Zions Bancorp   28.43      30.191\n",
       "ZTS                       Zoetis Inc   30.53       2.150\n",
       "\n",
       "[500 rows x 3 columns]"
      ]
     },
     "execution_count": 142,
     "metadata": {},
     "output_type": "execute_result"
    }
   ],
   "source": [
    "data[['Name', 'Price', 'Book Value']]"
   ]
  },
  {
   "cell_type": "code",
   "execution_count": 143,
   "metadata": {
    "collapsed": true
   },
   "outputs": [],
   "source": [
    "newdata = data[['Name', 'Price', 'Book Value']]"
   ]
  },
  {
   "cell_type": "code",
   "execution_count": 144,
   "metadata": {},
   "outputs": [
    {
     "data": {
      "text/html": [
       "<div>\n",
       "<style>\n",
       "    .dataframe thead tr:only-child th {\n",
       "        text-align: right;\n",
       "    }\n",
       "\n",
       "    .dataframe thead th {\n",
       "        text-align: left;\n",
       "    }\n",
       "\n",
       "    .dataframe tbody tr th {\n",
       "        vertical-align: top;\n",
       "    }\n",
       "</style>\n",
       "<table border=\"1\" class=\"dataframe\">\n",
       "  <thead>\n",
       "    <tr style=\"text-align: right;\">\n",
       "      <th></th>\n",
       "      <th>Name</th>\n",
       "      <th>Price</th>\n",
       "      <th>Book Value</th>\n",
       "    </tr>\n",
       "    <tr>\n",
       "      <th>Symbol</th>\n",
       "      <th></th>\n",
       "      <th></th>\n",
       "      <th></th>\n",
       "    </tr>\n",
       "  </thead>\n",
       "  <tbody>\n",
       "    <tr>\n",
       "      <th>MMM</th>\n",
       "      <td>3M Co.</td>\n",
       "      <td>141.14</td>\n",
       "      <td>26.668</td>\n",
       "    </tr>\n",
       "    <tr>\n",
       "      <th>ABT</th>\n",
       "      <td>Abbott Laboratories</td>\n",
       "      <td>39.60</td>\n",
       "      <td>15.573</td>\n",
       "    </tr>\n",
       "    <tr>\n",
       "      <th>ABBV</th>\n",
       "      <td>AbbVie Inc.</td>\n",
       "      <td>53.95</td>\n",
       "      <td>2.954</td>\n",
       "    </tr>\n",
       "    <tr>\n",
       "      <th>ACN</th>\n",
       "      <td>Accenture</td>\n",
       "      <td>79.79</td>\n",
       "      <td>8.326</td>\n",
       "    </tr>\n",
       "    <tr>\n",
       "      <th>ACE</th>\n",
       "      <td>ACE Limited</td>\n",
       "      <td>102.91</td>\n",
       "      <td>86.897</td>\n",
       "    </tr>\n",
       "  </tbody>\n",
       "</table>\n",
       "</div>"
      ],
      "text/plain": [
       "                       Name   Price  Book Value\n",
       "Symbol                                         \n",
       "MMM                  3M Co.  141.14      26.668\n",
       "ABT     Abbott Laboratories   39.60      15.573\n",
       "ABBV            AbbVie Inc.   53.95       2.954\n",
       "ACN               Accenture   79.79       8.326\n",
       "ACE             ACE Limited  102.91      86.897"
      ]
     },
     "execution_count": 144,
     "metadata": {},
     "output_type": "execute_result"
    }
   ],
   "source": [
    "newdata.head()"
   ]
  },
  {
   "cell_type": "code",
   "execution_count": 150,
   "metadata": {},
   "outputs": [
    {
     "data": {
      "text/plain": [
       "Symbol\n",
       "MMM     282.28\n",
       "ABT      79.20\n",
       "ABBV    107.90\n",
       "ACN     159.58\n",
       "ACE     205.82\n",
       "Name: Price, dtype: float64"
      ]
     },
     "execution_count": 150,
     "metadata": {},
     "output_type": "execute_result"
    }
   ],
   "source": [
    "newdata['Price'][:'ACE'] * 2"
   ]
  },
  {
   "cell_type": "code",
   "execution_count": 151,
   "metadata": {},
   "outputs": [
    {
     "name": "stderr",
     "output_type": "stream",
     "text": [
      "/Users/likit/anaconda/envs/tutorial/lib/python2.7/site-packages/ipykernel_launcher.py:1: SettingWithCopyWarning: \n",
      "A value is trying to be set on a copy of a slice from a DataFrame.\n",
      "Try using .loc[row_indexer,col_indexer] = value instead\n",
      "\n",
      "See the caveats in the documentation: http://pandas.pydata.org/pandas-docs/stable/indexing.html#indexing-view-versus-copy\n",
      "  \"\"\"Entry point for launching an IPython kernel.\n"
     ]
    }
   ],
   "source": [
    "newdata['Doubled Price'] = newdata['Price'] * 2"
   ]
  },
  {
   "cell_type": "code",
   "execution_count": 152,
   "metadata": {},
   "outputs": [
    {
     "data": {
      "text/html": [
       "<div>\n",
       "<style>\n",
       "    .dataframe thead tr:only-child th {\n",
       "        text-align: right;\n",
       "    }\n",
       "\n",
       "    .dataframe thead th {\n",
       "        text-align: left;\n",
       "    }\n",
       "\n",
       "    .dataframe tbody tr th {\n",
       "        vertical-align: top;\n",
       "    }\n",
       "</style>\n",
       "<table border=\"1\" class=\"dataframe\">\n",
       "  <thead>\n",
       "    <tr style=\"text-align: right;\">\n",
       "      <th></th>\n",
       "      <th>Name</th>\n",
       "      <th>Price</th>\n",
       "      <th>Book Value</th>\n",
       "      <th>Doubled Price</th>\n",
       "    </tr>\n",
       "    <tr>\n",
       "      <th>Symbol</th>\n",
       "      <th></th>\n",
       "      <th></th>\n",
       "      <th></th>\n",
       "      <th></th>\n",
       "    </tr>\n",
       "  </thead>\n",
       "  <tbody>\n",
       "    <tr>\n",
       "      <th>MMM</th>\n",
       "      <td>3M Co.</td>\n",
       "      <td>141.14</td>\n",
       "      <td>26.668</td>\n",
       "      <td>282.28</td>\n",
       "    </tr>\n",
       "    <tr>\n",
       "      <th>ABT</th>\n",
       "      <td>Abbott Laboratories</td>\n",
       "      <td>39.60</td>\n",
       "      <td>15.573</td>\n",
       "      <td>79.20</td>\n",
       "    </tr>\n",
       "    <tr>\n",
       "      <th>ABBV</th>\n",
       "      <td>AbbVie Inc.</td>\n",
       "      <td>53.95</td>\n",
       "      <td>2.954</td>\n",
       "      <td>107.90</td>\n",
       "    </tr>\n",
       "    <tr>\n",
       "      <th>ACN</th>\n",
       "      <td>Accenture</td>\n",
       "      <td>79.79</td>\n",
       "      <td>8.326</td>\n",
       "      <td>159.58</td>\n",
       "    </tr>\n",
       "    <tr>\n",
       "      <th>ACE</th>\n",
       "      <td>ACE Limited</td>\n",
       "      <td>102.91</td>\n",
       "      <td>86.897</td>\n",
       "      <td>205.82</td>\n",
       "    </tr>\n",
       "  </tbody>\n",
       "</table>\n",
       "</div>"
      ],
      "text/plain": [
       "                       Name   Price  Book Value  Doubled Price\n",
       "Symbol                                                        \n",
       "MMM                  3M Co.  141.14      26.668         282.28\n",
       "ABT     Abbott Laboratories   39.60      15.573          79.20\n",
       "ABBV            AbbVie Inc.   53.95       2.954         107.90\n",
       "ACN               Accenture   79.79       8.326         159.58\n",
       "ACE             ACE Limited  102.91      86.897         205.82"
      ]
     },
     "execution_count": 152,
     "metadata": {},
     "output_type": "execute_result"
    }
   ],
   "source": [
    "newdata.head()"
   ]
  },
  {
   "cell_type": "code",
   "execution_count": 156,
   "metadata": {},
   "outputs": [
    {
     "data": {
      "text/html": [
       "<div>\n",
       "<style>\n",
       "    .dataframe thead tr:only-child th {\n",
       "        text-align: right;\n",
       "    }\n",
       "\n",
       "    .dataframe thead th {\n",
       "        text-align: left;\n",
       "    }\n",
       "\n",
       "    .dataframe tbody tr th {\n",
       "        vertical-align: top;\n",
       "    }\n",
       "</style>\n",
       "<table border=\"1\" class=\"dataframe\">\n",
       "  <thead>\n",
       "    <tr style=\"text-align: right;\">\n",
       "      <th></th>\n",
       "      <th>Name</th>\n",
       "      <th>Price</th>\n",
       "      <th>Book Value</th>\n",
       "      <th>Doubled Price</th>\n",
       "    </tr>\n",
       "    <tr>\n",
       "      <th>Symbol</th>\n",
       "      <th></th>\n",
       "      <th></th>\n",
       "      <th></th>\n",
       "      <th></th>\n",
       "    </tr>\n",
       "  </thead>\n",
       "  <tbody>\n",
       "    <tr>\n",
       "      <th>MMM</th>\n",
       "      <td>3M Co.</td>\n",
       "      <td>141.14</td>\n",
       "      <td>26.6680</td>\n",
       "      <td>282.28</td>\n",
       "    </tr>\n",
       "    <tr>\n",
       "      <th>ACE</th>\n",
       "      <td>ACE Limited</td>\n",
       "      <td>102.91</td>\n",
       "      <td>86.8970</td>\n",
       "      <td>205.82</td>\n",
       "    </tr>\n",
       "    <tr>\n",
       "      <th>ACT</th>\n",
       "      <td>Actavis Inc</td>\n",
       "      <td>213.77</td>\n",
       "      <td>55.1880</td>\n",
       "      <td>427.54</td>\n",
       "    </tr>\n",
       "    <tr>\n",
       "      <th>APD</th>\n",
       "      <td>Air Products &amp; Chemicals Inc</td>\n",
       "      <td>118.74</td>\n",
       "      <td>34.7230</td>\n",
       "      <td>237.48</td>\n",
       "    </tr>\n",
       "    <tr>\n",
       "      <th>ARG</th>\n",
       "      <td>Airgas Inc</td>\n",
       "      <td>105.66</td>\n",
       "      <td>24.8820</td>\n",
       "      <td>211.32</td>\n",
       "    </tr>\n",
       "    <tr>\n",
       "      <th>ALXN</th>\n",
       "      <td>Alexion Pharmaceuticals</td>\n",
       "      <td>162.30</td>\n",
       "      <td>13.6280</td>\n",
       "      <td>324.60</td>\n",
       "    </tr>\n",
       "    <tr>\n",
       "      <th>AGN</th>\n",
       "      <td>Allergan Inc</td>\n",
       "      <td>166.92</td>\n",
       "      <td>22.2070</td>\n",
       "      <td>333.84</td>\n",
       "    </tr>\n",
       "    <tr>\n",
       "      <th>ADS</th>\n",
       "      <td>Alliance Data Systems Corp</td>\n",
       "      <td>248.88</td>\n",
       "      <td>17.3920</td>\n",
       "      <td>497.76</td>\n",
       "    </tr>\n",
       "    <tr>\n",
       "      <th>AMZN</th>\n",
       "      <td>Amazon.com Inc</td>\n",
       "      <td>312.24</td>\n",
       "      <td>22.4520</td>\n",
       "      <td>624.48</td>\n",
       "    </tr>\n",
       "    <tr>\n",
       "      <th>AMP</th>\n",
       "      <td>Ameriprise Financial</td>\n",
       "      <td>110.93</td>\n",
       "      <td>43.7860</td>\n",
       "      <td>221.86</td>\n",
       "    </tr>\n",
       "    <tr>\n",
       "      <th>AMGN</th>\n",
       "      <td>Amgen Inc</td>\n",
       "      <td>114.33</td>\n",
       "      <td>30.0450</td>\n",
       "      <td>228.66</td>\n",
       "    </tr>\n",
       "    <tr>\n",
       "      <th>APC</th>\n",
       "      <td>Anadarko Petroleum Corp</td>\n",
       "      <td>101.35</td>\n",
       "      <td>37.8760</td>\n",
       "      <td>202.70</td>\n",
       "    </tr>\n",
       "    <tr>\n",
       "      <th>AAPL</th>\n",
       "      <td>Apple Inc.</td>\n",
       "      <td>614.13</td>\n",
       "      <td>139.4600</td>\n",
       "      <td>1228.26</td>\n",
       "    </tr>\n",
       "    <tr>\n",
       "      <th>AZO</th>\n",
       "      <td>AutoZone Inc</td>\n",
       "      <td>540.90</td>\n",
       "      <td>-51.2750</td>\n",
       "      <td>1081.80</td>\n",
       "    </tr>\n",
       "    <tr>\n",
       "      <th>AVB</th>\n",
       "      <td>AvalonBay Communities, Inc.</td>\n",
       "      <td>140.06</td>\n",
       "      <td>66.3990</td>\n",
       "      <td>280.12</td>\n",
       "    </tr>\n",
       "    <tr>\n",
       "      <th>BCR</th>\n",
       "      <td>Bard (C.R.) Inc.</td>\n",
       "      <td>146.62</td>\n",
       "      <td>26.9640</td>\n",
       "      <td>293.24</td>\n",
       "    </tr>\n",
       "    <tr>\n",
       "      <th>BDX</th>\n",
       "      <td>Becton Dickinson</td>\n",
       "      <td>115.70</td>\n",
       "      <td>27.5100</td>\n",
       "      <td>231.40</td>\n",
       "    </tr>\n",
       "    <tr>\n",
       "      <th>BRK-B</th>\n",
       "      <td>Berkshire Hathaway</td>\n",
       "      <td>126.80</td>\n",
       "      <td>138425.4531</td>\n",
       "      <td>253.60</td>\n",
       "    </tr>\n",
       "    <tr>\n",
       "      <th>BIIB</th>\n",
       "      <td>BIOGEN IDEC Inc.</td>\n",
       "      <td>299.71</td>\n",
       "      <td>38.5190</td>\n",
       "      <td>599.42</td>\n",
       "    </tr>\n",
       "    <tr>\n",
       "      <th>BLK</th>\n",
       "      <td>BlackRock</td>\n",
       "      <td>300.69</td>\n",
       "      <td>156.5470</td>\n",
       "      <td>601.38</td>\n",
       "    </tr>\n",
       "    <tr>\n",
       "      <th>BA</th>\n",
       "      <td>Boeing Company</td>\n",
       "      <td>132.41</td>\n",
       "      <td>19.8700</td>\n",
       "      <td>264.82</td>\n",
       "    </tr>\n",
       "    <tr>\n",
       "      <th>BXP</th>\n",
       "      <td>Boston Properties</td>\n",
       "      <td>118.91</td>\n",
       "      <td>35.9570</td>\n",
       "      <td>237.82</td>\n",
       "    </tr>\n",
       "    <tr>\n",
       "      <th>CAT</th>\n",
       "      <td>Caterpillar Inc.</td>\n",
       "      <td>104.03</td>\n",
       "      <td>32.5280</td>\n",
       "      <td>208.06</td>\n",
       "    </tr>\n",
       "    <tr>\n",
       "      <th>CELG</th>\n",
       "      <td>Celgene Corp.</td>\n",
       "      <td>150.13</td>\n",
       "      <td>11.2000</td>\n",
       "      <td>300.26</td>\n",
       "    </tr>\n",
       "    <tr>\n",
       "      <th>CF</th>\n",
       "      <td>CF Industries Holdings Inc</td>\n",
       "      <td>246.66</td>\n",
       "      <td>93.7190</td>\n",
       "      <td>493.32</td>\n",
       "    </tr>\n",
       "    <tr>\n",
       "      <th>CVX</th>\n",
       "      <td>Chevron Corp.</td>\n",
       "      <td>123.37</td>\n",
       "      <td>79.1430</td>\n",
       "      <td>246.74</td>\n",
       "    </tr>\n",
       "    <tr>\n",
       "      <th>CMG</th>\n",
       "      <td>Chipotle Mexican Grill</td>\n",
       "      <td>522.32</td>\n",
       "      <td>52.9150</td>\n",
       "      <td>1044.64</td>\n",
       "    </tr>\n",
       "    <tr>\n",
       "      <th>COST</th>\n",
       "      <td>Costco Co.</td>\n",
       "      <td>114.94</td>\n",
       "      <td>26.1770</td>\n",
       "      <td>229.88</td>\n",
       "    </tr>\n",
       "    <tr>\n",
       "      <th>CMI</th>\n",
       "      <td>Cummins Inc.</td>\n",
       "      <td>150.05</td>\n",
       "      <td>40.2850</td>\n",
       "      <td>300.10</td>\n",
       "    </tr>\n",
       "    <tr>\n",
       "      <th>DNB</th>\n",
       "      <td>Dun &amp; Bradstreet</td>\n",
       "      <td>104.83</td>\n",
       "      <td>-28.8710</td>\n",
       "      <td>209.66</td>\n",
       "    </tr>\n",
       "    <tr>\n",
       "      <th>...</th>\n",
       "      <td>...</td>\n",
       "      <td>...</td>\n",
       "      <td>...</td>\n",
       "      <td>...</td>\n",
       "    </tr>\n",
       "    <tr>\n",
       "      <th>PH</th>\n",
       "      <td>Parker-Hannifin</td>\n",
       "      <td>123.10</td>\n",
       "      <td>43.3140</td>\n",
       "      <td>246.20</td>\n",
       "    </tr>\n",
       "    <tr>\n",
       "      <th>PRGO</th>\n",
       "      <td>Perrigo</td>\n",
       "      <td>138.63</td>\n",
       "      <td>63.9620</td>\n",
       "      <td>277.26</td>\n",
       "    </tr>\n",
       "    <tr>\n",
       "      <th>PXD</th>\n",
       "      <td>Pioneer Natural Resources</td>\n",
       "      <td>202.31</td>\n",
       "      <td>46.9580</td>\n",
       "      <td>404.62</td>\n",
       "    </tr>\n",
       "    <tr>\n",
       "      <th>PPG</th>\n",
       "      <td>PPG Industries</td>\n",
       "      <td>198.86</td>\n",
       "      <td>43.3390</td>\n",
       "      <td>397.72</td>\n",
       "    </tr>\n",
       "    <tr>\n",
       "      <th>PX</th>\n",
       "      <td>Praxair Inc.</td>\n",
       "      <td>130.93</td>\n",
       "      <td>22.5310</td>\n",
       "      <td>261.86</td>\n",
       "    </tr>\n",
       "    <tr>\n",
       "      <th>PCP</th>\n",
       "      <td>Precision Castparts</td>\n",
       "      <td>249.02</td>\n",
       "      <td>75.9840</td>\n",
       "      <td>498.04</td>\n",
       "    </tr>\n",
       "    <tr>\n",
       "      <th>PCLN</th>\n",
       "      <td>Priceline.com Inc</td>\n",
       "      <td>1197.12</td>\n",
       "      <td>137.8860</td>\n",
       "      <td>2394.24</td>\n",
       "    </tr>\n",
       "    <tr>\n",
       "      <th>PSA</th>\n",
       "      <td>Public Storage</td>\n",
       "      <td>171.37</td>\n",
       "      <td>30.0510</td>\n",
       "      <td>342.74</td>\n",
       "    </tr>\n",
       "    <tr>\n",
       "      <th>PVH</th>\n",
       "      <td>PVH Corp</td>\n",
       "      <td>131.48</td>\n",
       "      <td>52.7610</td>\n",
       "      <td>262.96</td>\n",
       "    </tr>\n",
       "    <tr>\n",
       "      <th>RL</th>\n",
       "      <td>Polo Ralph Lauren Corp.</td>\n",
       "      <td>152.72</td>\n",
       "      <td>45.4790</td>\n",
       "      <td>305.44</td>\n",
       "    </tr>\n",
       "    <tr>\n",
       "      <th>REGN</th>\n",
       "      <td>Regeneron Pharmaceuticals Inc</td>\n",
       "      <td>297.77</td>\n",
       "      <td>22.4020</td>\n",
       "      <td>595.54</td>\n",
       "    </tr>\n",
       "    <tr>\n",
       "      <th>ROK</th>\n",
       "      <td>Rockwell Automation Inc.</td>\n",
       "      <td>121.26</td>\n",
       "      <td>19.8650</td>\n",
       "      <td>242.52</td>\n",
       "    </tr>\n",
       "    <tr>\n",
       "      <th>ROP</th>\n",
       "      <td>Roper Industries</td>\n",
       "      <td>141.66</td>\n",
       "      <td>43.6650</td>\n",
       "      <td>283.32</td>\n",
       "    </tr>\n",
       "    <tr>\n",
       "      <th>SLB</th>\n",
       "      <td>Schlumberger Ltd.</td>\n",
       "      <td>101.39</td>\n",
       "      <td>30.7210</td>\n",
       "      <td>202.78</td>\n",
       "    </tr>\n",
       "    <tr>\n",
       "      <th>SHW</th>\n",
       "      <td>Sherwin-Williams</td>\n",
       "      <td>202.41</td>\n",
       "      <td>16.7260</td>\n",
       "      <td>404.82</td>\n",
       "    </tr>\n",
       "    <tr>\n",
       "      <th>SPG</th>\n",
       "      <td>Simon Property Group Inc</td>\n",
       "      <td>175.26</td>\n",
       "      <td>18.7670</td>\n",
       "      <td>350.52</td>\n",
       "    </tr>\n",
       "    <tr>\n",
       "      <th>SNA</th>\n",
       "      <td>Snap-On Inc.</td>\n",
       "      <td>115.83</td>\n",
       "      <td>37.5480</td>\n",
       "      <td>231.66</td>\n",
       "    </tr>\n",
       "    <tr>\n",
       "      <th>SRCL</th>\n",
       "      <td>Stericycle Inc</td>\n",
       "      <td>112.48</td>\n",
       "      <td>20.8020</td>\n",
       "      <td>224.96</td>\n",
       "    </tr>\n",
       "    <tr>\n",
       "      <th>TMO</th>\n",
       "      <td>Thermo Fisher Scientific</td>\n",
       "      <td>115.74</td>\n",
       "      <td>51.2120</td>\n",
       "      <td>231.48</td>\n",
       "    </tr>\n",
       "    <tr>\n",
       "      <th>TWC</th>\n",
       "      <td>Time Warner Cable Inc.</td>\n",
       "      <td>141.28</td>\n",
       "      <td>25.4630</td>\n",
       "      <td>282.56</td>\n",
       "    </tr>\n",
       "    <tr>\n",
       "      <th>UNP</th>\n",
       "      <td>Union Pacific</td>\n",
       "      <td>196.26</td>\n",
       "      <td>46.9570</td>\n",
       "      <td>392.52</td>\n",
       "    </tr>\n",
       "    <tr>\n",
       "      <th>UPS</th>\n",
       "      <td>United Parcel Service</td>\n",
       "      <td>102.73</td>\n",
       "      <td>6.7900</td>\n",
       "      <td>205.46</td>\n",
       "    </tr>\n",
       "    <tr>\n",
       "      <th>UTX</th>\n",
       "      <td>United Technologies</td>\n",
       "      <td>115.54</td>\n",
       "      <td>35.2520</td>\n",
       "      <td>231.08</td>\n",
       "    </tr>\n",
       "    <tr>\n",
       "      <th>V</th>\n",
       "      <td>Visa Inc.</td>\n",
       "      <td>212.07</td>\n",
       "      <td>43.3910</td>\n",
       "      <td>424.14</td>\n",
       "    </tr>\n",
       "    <tr>\n",
       "      <th>VNO</th>\n",
       "      <td>Vornado Realty Trust</td>\n",
       "      <td>105.32</td>\n",
       "      <td>28.2430</td>\n",
       "      <td>210.64</td>\n",
       "    </tr>\n",
       "    <tr>\n",
       "      <th>WAT</th>\n",
       "      <td>Waters Corporation</td>\n",
       "      <td>100.54</td>\n",
       "      <td>21.4600</td>\n",
       "      <td>201.08</td>\n",
       "    </tr>\n",
       "    <tr>\n",
       "      <th>WLP</th>\n",
       "      <td>WellPoint Inc.</td>\n",
       "      <td>108.82</td>\n",
       "      <td>86.3580</td>\n",
       "      <td>217.64</td>\n",
       "    </tr>\n",
       "    <tr>\n",
       "      <th>WHR</th>\n",
       "      <td>Whirlpool Corp.</td>\n",
       "      <td>147.26</td>\n",
       "      <td>66.2210</td>\n",
       "      <td>294.52</td>\n",
       "    </tr>\n",
       "    <tr>\n",
       "      <th>WYNN</th>\n",
       "      <td>Wynn Resorts Ltd</td>\n",
       "      <td>207.86</td>\n",
       "      <td>-0.7190</td>\n",
       "      <td>415.72</td>\n",
       "    </tr>\n",
       "    <tr>\n",
       "      <th>ZMH</th>\n",
       "      <td>Zimmer Holdings</td>\n",
       "      <td>101.84</td>\n",
       "      <td>37.1810</td>\n",
       "      <td>203.68</td>\n",
       "    </tr>\n",
       "  </tbody>\n",
       "</table>\n",
       "<p>93 rows × 4 columns</p>\n",
       "</div>"
      ],
      "text/plain": [
       "                                 Name    Price   Book Value  Doubled Price\n",
       "Symbol                                                                    \n",
       "MMM                            3M Co.   141.14      26.6680         282.28\n",
       "ACE                       ACE Limited   102.91      86.8970         205.82\n",
       "ACT                       Actavis Inc   213.77      55.1880         427.54\n",
       "APD      Air Products & Chemicals Inc   118.74      34.7230         237.48\n",
       "ARG                        Airgas Inc   105.66      24.8820         211.32\n",
       "ALXN          Alexion Pharmaceuticals   162.30      13.6280         324.60\n",
       "AGN                      Allergan Inc   166.92      22.2070         333.84\n",
       "ADS        Alliance Data Systems Corp   248.88      17.3920         497.76\n",
       "AMZN                   Amazon.com Inc   312.24      22.4520         624.48\n",
       "AMP              Ameriprise Financial   110.93      43.7860         221.86\n",
       "AMGN                        Amgen Inc   114.33      30.0450         228.66\n",
       "APC           Anadarko Petroleum Corp   101.35      37.8760         202.70\n",
       "AAPL                       Apple Inc.   614.13     139.4600        1228.26\n",
       "AZO                      AutoZone Inc   540.90     -51.2750        1081.80\n",
       "AVB       AvalonBay Communities, Inc.   140.06      66.3990         280.12\n",
       "BCR                  Bard (C.R.) Inc.   146.62      26.9640         293.24\n",
       "BDX                  Becton Dickinson   115.70      27.5100         231.40\n",
       "BRK-B              Berkshire Hathaway   126.80  138425.4531         253.60\n",
       "BIIB                 BIOGEN IDEC Inc.   299.71      38.5190         599.42\n",
       "BLK                         BlackRock   300.69     156.5470         601.38\n",
       "BA                     Boeing Company   132.41      19.8700         264.82\n",
       "BXP                 Boston Properties   118.91      35.9570         237.82\n",
       "CAT                  Caterpillar Inc.   104.03      32.5280         208.06\n",
       "CELG                    Celgene Corp.   150.13      11.2000         300.26\n",
       "CF         CF Industries Holdings Inc   246.66      93.7190         493.32\n",
       "CVX                     Chevron Corp.   123.37      79.1430         246.74\n",
       "CMG            Chipotle Mexican Grill   522.32      52.9150        1044.64\n",
       "COST                       Costco Co.   114.94      26.1770         229.88\n",
       "CMI                      Cummins Inc.   150.05      40.2850         300.10\n",
       "DNB                  Dun & Bradstreet   104.83     -28.8710         209.66\n",
       "...                               ...      ...          ...            ...\n",
       "PH                    Parker-Hannifin   123.10      43.3140         246.20\n",
       "PRGO                          Perrigo   138.63      63.9620         277.26\n",
       "PXD         Pioneer Natural Resources   202.31      46.9580         404.62\n",
       "PPG                    PPG Industries   198.86      43.3390         397.72\n",
       "PX                       Praxair Inc.   130.93      22.5310         261.86\n",
       "PCP               Precision Castparts   249.02      75.9840         498.04\n",
       "PCLN                Priceline.com Inc  1197.12     137.8860        2394.24\n",
       "PSA                    Public Storage   171.37      30.0510         342.74\n",
       "PVH                          PVH Corp   131.48      52.7610         262.96\n",
       "RL            Polo Ralph Lauren Corp.   152.72      45.4790         305.44\n",
       "REGN    Regeneron Pharmaceuticals Inc   297.77      22.4020         595.54\n",
       "ROK          Rockwell Automation Inc.   121.26      19.8650         242.52\n",
       "ROP                  Roper Industries   141.66      43.6650         283.32\n",
       "SLB                 Schlumberger Ltd.   101.39      30.7210         202.78\n",
       "SHW                  Sherwin-Williams   202.41      16.7260         404.82\n",
       "SPG          Simon Property Group Inc   175.26      18.7670         350.52\n",
       "SNA                      Snap-On Inc.   115.83      37.5480         231.66\n",
       "SRCL                   Stericycle Inc   112.48      20.8020         224.96\n",
       "TMO          Thermo Fisher Scientific   115.74      51.2120         231.48\n",
       "TWC            Time Warner Cable Inc.   141.28      25.4630         282.56\n",
       "UNP                     Union Pacific   196.26      46.9570         392.52\n",
       "UPS             United Parcel Service   102.73       6.7900         205.46\n",
       "UTX               United Technologies   115.54      35.2520         231.08\n",
       "V                           Visa Inc.   212.07      43.3910         424.14\n",
       "VNO              Vornado Realty Trust   105.32      28.2430         210.64\n",
       "WAT                Waters Corporation   100.54      21.4600         201.08\n",
       "WLP                    WellPoint Inc.   108.82      86.3580         217.64\n",
       "WHR                   Whirlpool Corp.   147.26      66.2210         294.52\n",
       "WYNN                 Wynn Resorts Ltd   207.86      -0.7190         415.72\n",
       "ZMH                   Zimmer Holdings   101.84      37.1810         203.68\n",
       "\n",
       "[93 rows x 4 columns]"
      ]
     },
     "execution_count": 156,
     "metadata": {},
     "output_type": "execute_result"
    }
   ],
   "source": [
    "newdata[newdata['Price'] > 100.0]"
   ]
  },
  {
   "cell_type": "code",
   "execution_count": 157,
   "metadata": {},
   "outputs": [
    {
     "data": {
      "text/plain": [
       "1197.1199999999999"
      ]
     },
     "execution_count": 157,
     "metadata": {},
     "output_type": "execute_result"
    }
   ],
   "source": [
    "newdata['Price'].max()"
   ]
  },
  {
   "cell_type": "code",
   "execution_count": 158,
   "metadata": {},
   "outputs": [
    {
     "data": {
      "text/plain": [
       "138425.45310000001"
      ]
     },
     "execution_count": 158,
     "metadata": {},
     "output_type": "execute_result"
    }
   ],
   "source": [
    "newdata['Book Value'].max()"
   ]
  },
  {
   "cell_type": "code",
   "execution_count": 159,
   "metadata": {},
   "outputs": [
    {
     "data": {
      "text/plain": [
       "-51.274999999999999"
      ]
     },
     "execution_count": 159,
     "metadata": {},
     "output_type": "execute_result"
    }
   ],
   "source": [
    "newdata['Book Value'].min()"
   ]
  },
  {
   "cell_type": "code",
   "execution_count": 160,
   "metadata": {},
   "outputs": [
    {
     "data": {
      "text/plain": [
       "Name             eBay Inc.\n",
       "Price              1197.12\n",
       "Book Value          138425\n",
       "Doubled Price      2394.24\n",
       "dtype: object"
      ]
     },
     "execution_count": 160,
     "metadata": {},
     "output_type": "execute_result"
    }
   ],
   "source": [
    "newdata.max()"
   ]
  },
  {
   "cell_type": "code",
   "execution_count": 161,
   "metadata": {},
   "outputs": [
    {
     "data": {
      "text/plain": [
       "Price             77.368600\n",
       "Book Value       301.611301\n",
       "Doubled Price    154.737200\n",
       "dtype: float64"
      ]
     },
     "execution_count": 161,
     "metadata": {},
     "output_type": "execute_result"
    }
   ],
   "source": [
    "newdata.mean()"
   ]
  },
  {
   "cell_type": "code",
   "execution_count": 162,
   "metadata": {},
   "outputs": [
    {
     "data": {
      "text/html": [
       "<div>\n",
       "<style>\n",
       "    .dataframe thead tr:only-child th {\n",
       "        text-align: right;\n",
       "    }\n",
       "\n",
       "    .dataframe thead th {\n",
       "        text-align: left;\n",
       "    }\n",
       "\n",
       "    .dataframe tbody tr th {\n",
       "        vertical-align: top;\n",
       "    }\n",
       "</style>\n",
       "<table border=\"1\" class=\"dataframe\">\n",
       "  <thead>\n",
       "    <tr style=\"text-align: right;\">\n",
       "      <th></th>\n",
       "      <th>Price</th>\n",
       "      <th>Book Value</th>\n",
       "      <th>Doubled Price</th>\n",
       "    </tr>\n",
       "  </thead>\n",
       "  <tbody>\n",
       "    <tr>\n",
       "      <th>count</th>\n",
       "      <td>500.00000</td>\n",
       "      <td>499.000000</td>\n",
       "      <td>500.000000</td>\n",
       "    </tr>\n",
       "    <tr>\n",
       "      <th>mean</th>\n",
       "      <td>77.36860</td>\n",
       "      <td>301.611301</td>\n",
       "      <td>154.737200</td>\n",
       "    </tr>\n",
       "    <tr>\n",
       "      <th>std</th>\n",
       "      <td>87.59694</td>\n",
       "      <td>6195.727862</td>\n",
       "      <td>175.193881</td>\n",
       "    </tr>\n",
       "    <tr>\n",
       "      <th>min</th>\n",
       "      <td>0.00000</td>\n",
       "      <td>-51.275000</td>\n",
       "      <td>0.000000</td>\n",
       "    </tr>\n",
       "    <tr>\n",
       "      <th>25%</th>\n",
       "      <td>38.74500</td>\n",
       "      <td>10.836500</td>\n",
       "      <td>77.490000</td>\n",
       "    </tr>\n",
       "    <tr>\n",
       "      <th>50%</th>\n",
       "      <td>58.35500</td>\n",
       "      <td>19.098000</td>\n",
       "      <td>116.710000</td>\n",
       "    </tr>\n",
       "    <tr>\n",
       "      <th>75%</th>\n",
       "      <td>86.68000</td>\n",
       "      <td>31.386500</td>\n",
       "      <td>173.360000</td>\n",
       "    </tr>\n",
       "    <tr>\n",
       "      <th>max</th>\n",
       "      <td>1197.12000</td>\n",
       "      <td>138425.453100</td>\n",
       "      <td>2394.240000</td>\n",
       "    </tr>\n",
       "  </tbody>\n",
       "</table>\n",
       "</div>"
      ],
      "text/plain": [
       "            Price     Book Value  Doubled Price\n",
       "count   500.00000     499.000000     500.000000\n",
       "mean     77.36860     301.611301     154.737200\n",
       "std      87.59694    6195.727862     175.193881\n",
       "min       0.00000     -51.275000       0.000000\n",
       "25%      38.74500      10.836500      77.490000\n",
       "50%      58.35500      19.098000     116.710000\n",
       "75%      86.68000      31.386500     173.360000\n",
       "max    1197.12000  138425.453100    2394.240000"
      ]
     },
     "execution_count": 162,
     "metadata": {},
     "output_type": "execute_result"
    }
   ],
   "source": [
    "newdata.describe()"
   ]
  },
  {
   "cell_type": "code",
   "execution_count": 170,
   "metadata": {},
   "outputs": [],
   "source": [
    "stats = newdata[~newdata['Book Value'].isnull()].describe()"
   ]
  },
  {
   "cell_type": "code",
   "execution_count": 172,
   "metadata": {},
   "outputs": [
    {
     "data": {
      "text/plain": [
       "count     499.000000\n",
       "mean       77.523647\n",
       "std        87.616140\n",
       "min         5.810000\n",
       "25%        38.930000\n",
       "50%        58.360000\n",
       "75%        86.790000\n",
       "max      1197.120000\n",
       "Name: Price, dtype: float64"
      ]
     },
     "execution_count": 172,
     "metadata": {},
     "output_type": "execute_result"
    }
   ],
   "source": [
    "stats['Price']"
   ]
  },
  {
   "cell_type": "code",
   "execution_count": 167,
   "metadata": {},
   "outputs": [],
   "source": [
    "s8 = pd.Series([True, False, True, True])"
   ]
  },
  {
   "cell_type": "code",
   "execution_count": 168,
   "metadata": {},
   "outputs": [
    {
     "data": {
      "text/plain": [
       "0     True\n",
       "1    False\n",
       "2     True\n",
       "3     True\n",
       "dtype: bool"
      ]
     },
     "execution_count": 168,
     "metadata": {},
     "output_type": "execute_result"
    }
   ],
   "source": [
    "s8"
   ]
  },
  {
   "cell_type": "code",
   "execution_count": 169,
   "metadata": {},
   "outputs": [
    {
     "data": {
      "text/plain": [
       "0    False\n",
       "1     True\n",
       "2    False\n",
       "3    False\n",
       "dtype: bool"
      ]
     },
     "execution_count": 169,
     "metadata": {},
     "output_type": "execute_result"
    }
   ],
   "source": [
    "~s8"
   ]
  },
  {
   "cell_type": "code",
   "execution_count": 173,
   "metadata": {},
   "outputs": [
    {
     "data": {
      "text/html": [
       "<div>\n",
       "<style>\n",
       "    .dataframe thead tr:only-child th {\n",
       "        text-align: right;\n",
       "    }\n",
       "\n",
       "    .dataframe thead th {\n",
       "        text-align: left;\n",
       "    }\n",
       "\n",
       "    .dataframe tbody tr th {\n",
       "        vertical-align: top;\n",
       "    }\n",
       "</style>\n",
       "<table border=\"1\" class=\"dataframe\">\n",
       "  <thead>\n",
       "    <tr style=\"text-align: right;\">\n",
       "      <th></th>\n",
       "      <th>Name</th>\n",
       "      <th>Price</th>\n",
       "      <th>Book Value</th>\n",
       "      <th>Doubled Price</th>\n",
       "    </tr>\n",
       "    <tr>\n",
       "      <th>Symbol</th>\n",
       "      <th></th>\n",
       "      <th></th>\n",
       "      <th></th>\n",
       "      <th></th>\n",
       "    </tr>\n",
       "  </thead>\n",
       "  <tbody>\n",
       "    <tr>\n",
       "      <th>MMM</th>\n",
       "      <td>3M Co.</td>\n",
       "      <td>141.14</td>\n",
       "      <td>26.6680</td>\n",
       "      <td>282.28</td>\n",
       "    </tr>\n",
       "    <tr>\n",
       "      <th>ACE</th>\n",
       "      <td>ACE Limited</td>\n",
       "      <td>102.91</td>\n",
       "      <td>86.8970</td>\n",
       "      <td>205.82</td>\n",
       "    </tr>\n",
       "    <tr>\n",
       "      <th>ACT</th>\n",
       "      <td>Actavis Inc</td>\n",
       "      <td>213.77</td>\n",
       "      <td>55.1880</td>\n",
       "      <td>427.54</td>\n",
       "    </tr>\n",
       "    <tr>\n",
       "      <th>APD</th>\n",
       "      <td>Air Products &amp; Chemicals Inc</td>\n",
       "      <td>118.74</td>\n",
       "      <td>34.7230</td>\n",
       "      <td>237.48</td>\n",
       "    </tr>\n",
       "    <tr>\n",
       "      <th>ARG</th>\n",
       "      <td>Airgas Inc</td>\n",
       "      <td>105.66</td>\n",
       "      <td>24.8820</td>\n",
       "      <td>211.32</td>\n",
       "    </tr>\n",
       "    <tr>\n",
       "      <th>ALXN</th>\n",
       "      <td>Alexion Pharmaceuticals</td>\n",
       "      <td>162.30</td>\n",
       "      <td>13.6280</td>\n",
       "      <td>324.60</td>\n",
       "    </tr>\n",
       "    <tr>\n",
       "      <th>AGN</th>\n",
       "      <td>Allergan Inc</td>\n",
       "      <td>166.92</td>\n",
       "      <td>22.2070</td>\n",
       "      <td>333.84</td>\n",
       "    </tr>\n",
       "    <tr>\n",
       "      <th>ADS</th>\n",
       "      <td>Alliance Data Systems Corp</td>\n",
       "      <td>248.88</td>\n",
       "      <td>17.3920</td>\n",
       "      <td>497.76</td>\n",
       "    </tr>\n",
       "    <tr>\n",
       "      <th>AMZN</th>\n",
       "      <td>Amazon.com Inc</td>\n",
       "      <td>312.24</td>\n",
       "      <td>22.4520</td>\n",
       "      <td>624.48</td>\n",
       "    </tr>\n",
       "    <tr>\n",
       "      <th>AMP</th>\n",
       "      <td>Ameriprise Financial</td>\n",
       "      <td>110.93</td>\n",
       "      <td>43.7860</td>\n",
       "      <td>221.86</td>\n",
       "    </tr>\n",
       "    <tr>\n",
       "      <th>AMGN</th>\n",
       "      <td>Amgen Inc</td>\n",
       "      <td>114.33</td>\n",
       "      <td>30.0450</td>\n",
       "      <td>228.66</td>\n",
       "    </tr>\n",
       "    <tr>\n",
       "      <th>APC</th>\n",
       "      <td>Anadarko Petroleum Corp</td>\n",
       "      <td>101.35</td>\n",
       "      <td>37.8760</td>\n",
       "      <td>202.70</td>\n",
       "    </tr>\n",
       "    <tr>\n",
       "      <th>AAPL</th>\n",
       "      <td>Apple Inc.</td>\n",
       "      <td>614.13</td>\n",
       "      <td>139.4600</td>\n",
       "      <td>1228.26</td>\n",
       "    </tr>\n",
       "    <tr>\n",
       "      <th>AVB</th>\n",
       "      <td>AvalonBay Communities, Inc.</td>\n",
       "      <td>140.06</td>\n",
       "      <td>66.3990</td>\n",
       "      <td>280.12</td>\n",
       "    </tr>\n",
       "    <tr>\n",
       "      <th>BCR</th>\n",
       "      <td>Bard (C.R.) Inc.</td>\n",
       "      <td>146.62</td>\n",
       "      <td>26.9640</td>\n",
       "      <td>293.24</td>\n",
       "    </tr>\n",
       "    <tr>\n",
       "      <th>BDX</th>\n",
       "      <td>Becton Dickinson</td>\n",
       "      <td>115.70</td>\n",
       "      <td>27.5100</td>\n",
       "      <td>231.40</td>\n",
       "    </tr>\n",
       "    <tr>\n",
       "      <th>BRK-B</th>\n",
       "      <td>Berkshire Hathaway</td>\n",
       "      <td>126.80</td>\n",
       "      <td>138425.4531</td>\n",
       "      <td>253.60</td>\n",
       "    </tr>\n",
       "    <tr>\n",
       "      <th>BIIB</th>\n",
       "      <td>BIOGEN IDEC Inc.</td>\n",
       "      <td>299.71</td>\n",
       "      <td>38.5190</td>\n",
       "      <td>599.42</td>\n",
       "    </tr>\n",
       "    <tr>\n",
       "      <th>BLK</th>\n",
       "      <td>BlackRock</td>\n",
       "      <td>300.69</td>\n",
       "      <td>156.5470</td>\n",
       "      <td>601.38</td>\n",
       "    </tr>\n",
       "    <tr>\n",
       "      <th>BA</th>\n",
       "      <td>Boeing Company</td>\n",
       "      <td>132.41</td>\n",
       "      <td>19.8700</td>\n",
       "      <td>264.82</td>\n",
       "    </tr>\n",
       "    <tr>\n",
       "      <th>BXP</th>\n",
       "      <td>Boston Properties</td>\n",
       "      <td>118.91</td>\n",
       "      <td>35.9570</td>\n",
       "      <td>237.82</td>\n",
       "    </tr>\n",
       "    <tr>\n",
       "      <th>CAT</th>\n",
       "      <td>Caterpillar Inc.</td>\n",
       "      <td>104.03</td>\n",
       "      <td>32.5280</td>\n",
       "      <td>208.06</td>\n",
       "    </tr>\n",
       "    <tr>\n",
       "      <th>CELG</th>\n",
       "      <td>Celgene Corp.</td>\n",
       "      <td>150.13</td>\n",
       "      <td>11.2000</td>\n",
       "      <td>300.26</td>\n",
       "    </tr>\n",
       "    <tr>\n",
       "      <th>CF</th>\n",
       "      <td>CF Industries Holdings Inc</td>\n",
       "      <td>246.66</td>\n",
       "      <td>93.7190</td>\n",
       "      <td>493.32</td>\n",
       "    </tr>\n",
       "    <tr>\n",
       "      <th>CVX</th>\n",
       "      <td>Chevron Corp.</td>\n",
       "      <td>123.37</td>\n",
       "      <td>79.1430</td>\n",
       "      <td>246.74</td>\n",
       "    </tr>\n",
       "    <tr>\n",
       "      <th>CMG</th>\n",
       "      <td>Chipotle Mexican Grill</td>\n",
       "      <td>522.32</td>\n",
       "      <td>52.9150</td>\n",
       "      <td>1044.64</td>\n",
       "    </tr>\n",
       "    <tr>\n",
       "      <th>COST</th>\n",
       "      <td>Costco Co.</td>\n",
       "      <td>114.94</td>\n",
       "      <td>26.1770</td>\n",
       "      <td>229.88</td>\n",
       "    </tr>\n",
       "    <tr>\n",
       "      <th>CMI</th>\n",
       "      <td>Cummins Inc.</td>\n",
       "      <td>150.05</td>\n",
       "      <td>40.2850</td>\n",
       "      <td>300.10</td>\n",
       "    </tr>\n",
       "    <tr>\n",
       "      <th>ECL</th>\n",
       "      <td>Ecolab Inc.</td>\n",
       "      <td>108.05</td>\n",
       "      <td>24.0190</td>\n",
       "      <td>216.10</td>\n",
       "    </tr>\n",
       "    <tr>\n",
       "      <th>EOG</th>\n",
       "      <td>EOG Resources</td>\n",
       "      <td>103.97</td>\n",
       "      <td>29.3380</td>\n",
       "      <td>207.94</td>\n",
       "    </tr>\n",
       "    <tr>\n",
       "      <th>...</th>\n",
       "      <td>...</td>\n",
       "      <td>...</td>\n",
       "      <td>...</td>\n",
       "      <td>...</td>\n",
       "    </tr>\n",
       "    <tr>\n",
       "      <th>ORLY</th>\n",
       "      <td>O'Reilly Automotive</td>\n",
       "      <td>148.64</td>\n",
       "      <td>20.3490</td>\n",
       "      <td>297.28</td>\n",
       "    </tr>\n",
       "    <tr>\n",
       "      <th>PH</th>\n",
       "      <td>Parker-Hannifin</td>\n",
       "      <td>123.10</td>\n",
       "      <td>43.3140</td>\n",
       "      <td>246.20</td>\n",
       "    </tr>\n",
       "    <tr>\n",
       "      <th>PRGO</th>\n",
       "      <td>Perrigo</td>\n",
       "      <td>138.63</td>\n",
       "      <td>63.9620</td>\n",
       "      <td>277.26</td>\n",
       "    </tr>\n",
       "    <tr>\n",
       "      <th>PXD</th>\n",
       "      <td>Pioneer Natural Resources</td>\n",
       "      <td>202.31</td>\n",
       "      <td>46.9580</td>\n",
       "      <td>404.62</td>\n",
       "    </tr>\n",
       "    <tr>\n",
       "      <th>PPG</th>\n",
       "      <td>PPG Industries</td>\n",
       "      <td>198.86</td>\n",
       "      <td>43.3390</td>\n",
       "      <td>397.72</td>\n",
       "    </tr>\n",
       "    <tr>\n",
       "      <th>PX</th>\n",
       "      <td>Praxair Inc.</td>\n",
       "      <td>130.93</td>\n",
       "      <td>22.5310</td>\n",
       "      <td>261.86</td>\n",
       "    </tr>\n",
       "    <tr>\n",
       "      <th>PCP</th>\n",
       "      <td>Precision Castparts</td>\n",
       "      <td>249.02</td>\n",
       "      <td>75.9840</td>\n",
       "      <td>498.04</td>\n",
       "    </tr>\n",
       "    <tr>\n",
       "      <th>PCLN</th>\n",
       "      <td>Priceline.com Inc</td>\n",
       "      <td>1197.12</td>\n",
       "      <td>137.8860</td>\n",
       "      <td>2394.24</td>\n",
       "    </tr>\n",
       "    <tr>\n",
       "      <th>PSA</th>\n",
       "      <td>Public Storage</td>\n",
       "      <td>171.37</td>\n",
       "      <td>30.0510</td>\n",
       "      <td>342.74</td>\n",
       "    </tr>\n",
       "    <tr>\n",
       "      <th>PVH</th>\n",
       "      <td>PVH Corp</td>\n",
       "      <td>131.48</td>\n",
       "      <td>52.7610</td>\n",
       "      <td>262.96</td>\n",
       "    </tr>\n",
       "    <tr>\n",
       "      <th>RL</th>\n",
       "      <td>Polo Ralph Lauren Corp.</td>\n",
       "      <td>152.72</td>\n",
       "      <td>45.4790</td>\n",
       "      <td>305.44</td>\n",
       "    </tr>\n",
       "    <tr>\n",
       "      <th>REGN</th>\n",
       "      <td>Regeneron Pharmaceuticals Inc</td>\n",
       "      <td>297.77</td>\n",
       "      <td>22.4020</td>\n",
       "      <td>595.54</td>\n",
       "    </tr>\n",
       "    <tr>\n",
       "      <th>ROK</th>\n",
       "      <td>Rockwell Automation Inc.</td>\n",
       "      <td>121.26</td>\n",
       "      <td>19.8650</td>\n",
       "      <td>242.52</td>\n",
       "    </tr>\n",
       "    <tr>\n",
       "      <th>ROP</th>\n",
       "      <td>Roper Industries</td>\n",
       "      <td>141.66</td>\n",
       "      <td>43.6650</td>\n",
       "      <td>283.32</td>\n",
       "    </tr>\n",
       "    <tr>\n",
       "      <th>SLB</th>\n",
       "      <td>Schlumberger Ltd.</td>\n",
       "      <td>101.39</td>\n",
       "      <td>30.7210</td>\n",
       "      <td>202.78</td>\n",
       "    </tr>\n",
       "    <tr>\n",
       "      <th>SHW</th>\n",
       "      <td>Sherwin-Williams</td>\n",
       "      <td>202.41</td>\n",
       "      <td>16.7260</td>\n",
       "      <td>404.82</td>\n",
       "    </tr>\n",
       "    <tr>\n",
       "      <th>SPG</th>\n",
       "      <td>Simon Property Group Inc</td>\n",
       "      <td>175.26</td>\n",
       "      <td>18.7670</td>\n",
       "      <td>350.52</td>\n",
       "    </tr>\n",
       "    <tr>\n",
       "      <th>SNA</th>\n",
       "      <td>Snap-On Inc.</td>\n",
       "      <td>115.83</td>\n",
       "      <td>37.5480</td>\n",
       "      <td>231.66</td>\n",
       "    </tr>\n",
       "    <tr>\n",
       "      <th>SRCL</th>\n",
       "      <td>Stericycle Inc</td>\n",
       "      <td>112.48</td>\n",
       "      <td>20.8020</td>\n",
       "      <td>224.96</td>\n",
       "    </tr>\n",
       "    <tr>\n",
       "      <th>TMO</th>\n",
       "      <td>Thermo Fisher Scientific</td>\n",
       "      <td>115.74</td>\n",
       "      <td>51.2120</td>\n",
       "      <td>231.48</td>\n",
       "    </tr>\n",
       "    <tr>\n",
       "      <th>TWC</th>\n",
       "      <td>Time Warner Cable Inc.</td>\n",
       "      <td>141.28</td>\n",
       "      <td>25.4630</td>\n",
       "      <td>282.56</td>\n",
       "    </tr>\n",
       "    <tr>\n",
       "      <th>UNP</th>\n",
       "      <td>Union Pacific</td>\n",
       "      <td>196.26</td>\n",
       "      <td>46.9570</td>\n",
       "      <td>392.52</td>\n",
       "    </tr>\n",
       "    <tr>\n",
       "      <th>UPS</th>\n",
       "      <td>United Parcel Service</td>\n",
       "      <td>102.73</td>\n",
       "      <td>6.7900</td>\n",
       "      <td>205.46</td>\n",
       "    </tr>\n",
       "    <tr>\n",
       "      <th>UTX</th>\n",
       "      <td>United Technologies</td>\n",
       "      <td>115.54</td>\n",
       "      <td>35.2520</td>\n",
       "      <td>231.08</td>\n",
       "    </tr>\n",
       "    <tr>\n",
       "      <th>V</th>\n",
       "      <td>Visa Inc.</td>\n",
       "      <td>212.07</td>\n",
       "      <td>43.3910</td>\n",
       "      <td>424.14</td>\n",
       "    </tr>\n",
       "    <tr>\n",
       "      <th>VNO</th>\n",
       "      <td>Vornado Realty Trust</td>\n",
       "      <td>105.32</td>\n",
       "      <td>28.2430</td>\n",
       "      <td>210.64</td>\n",
       "    </tr>\n",
       "    <tr>\n",
       "      <th>WAT</th>\n",
       "      <td>Waters Corporation</td>\n",
       "      <td>100.54</td>\n",
       "      <td>21.4600</td>\n",
       "      <td>201.08</td>\n",
       "    </tr>\n",
       "    <tr>\n",
       "      <th>WLP</th>\n",
       "      <td>WellPoint Inc.</td>\n",
       "      <td>108.82</td>\n",
       "      <td>86.3580</td>\n",
       "      <td>217.64</td>\n",
       "    </tr>\n",
       "    <tr>\n",
       "      <th>WHR</th>\n",
       "      <td>Whirlpool Corp.</td>\n",
       "      <td>147.26</td>\n",
       "      <td>66.2210</td>\n",
       "      <td>294.52</td>\n",
       "    </tr>\n",
       "    <tr>\n",
       "      <th>ZMH</th>\n",
       "      <td>Zimmer Holdings</td>\n",
       "      <td>101.84</td>\n",
       "      <td>37.1810</td>\n",
       "      <td>203.68</td>\n",
       "    </tr>\n",
       "  </tbody>\n",
       "</table>\n",
       "<p>89 rows × 4 columns</p>\n",
       "</div>"
      ],
      "text/plain": [
       "                                 Name    Price   Book Value  Doubled Price\n",
       "Symbol                                                                    \n",
       "MMM                            3M Co.   141.14      26.6680         282.28\n",
       "ACE                       ACE Limited   102.91      86.8970         205.82\n",
       "ACT                       Actavis Inc   213.77      55.1880         427.54\n",
       "APD      Air Products & Chemicals Inc   118.74      34.7230         237.48\n",
       "ARG                        Airgas Inc   105.66      24.8820         211.32\n",
       "ALXN          Alexion Pharmaceuticals   162.30      13.6280         324.60\n",
       "AGN                      Allergan Inc   166.92      22.2070         333.84\n",
       "ADS        Alliance Data Systems Corp   248.88      17.3920         497.76\n",
       "AMZN                   Amazon.com Inc   312.24      22.4520         624.48\n",
       "AMP              Ameriprise Financial   110.93      43.7860         221.86\n",
       "AMGN                        Amgen Inc   114.33      30.0450         228.66\n",
       "APC           Anadarko Petroleum Corp   101.35      37.8760         202.70\n",
       "AAPL                       Apple Inc.   614.13     139.4600        1228.26\n",
       "AVB       AvalonBay Communities, Inc.   140.06      66.3990         280.12\n",
       "BCR                  Bard (C.R.) Inc.   146.62      26.9640         293.24\n",
       "BDX                  Becton Dickinson   115.70      27.5100         231.40\n",
       "BRK-B              Berkshire Hathaway   126.80  138425.4531         253.60\n",
       "BIIB                 BIOGEN IDEC Inc.   299.71      38.5190         599.42\n",
       "BLK                         BlackRock   300.69     156.5470         601.38\n",
       "BA                     Boeing Company   132.41      19.8700         264.82\n",
       "BXP                 Boston Properties   118.91      35.9570         237.82\n",
       "CAT                  Caterpillar Inc.   104.03      32.5280         208.06\n",
       "CELG                    Celgene Corp.   150.13      11.2000         300.26\n",
       "CF         CF Industries Holdings Inc   246.66      93.7190         493.32\n",
       "CVX                     Chevron Corp.   123.37      79.1430         246.74\n",
       "CMG            Chipotle Mexican Grill   522.32      52.9150        1044.64\n",
       "COST                       Costco Co.   114.94      26.1770         229.88\n",
       "CMI                      Cummins Inc.   150.05      40.2850         300.10\n",
       "ECL                       Ecolab Inc.   108.05      24.0190         216.10\n",
       "EOG                     EOG Resources   103.97      29.3380         207.94\n",
       "...                               ...      ...          ...            ...\n",
       "ORLY              O'Reilly Automotive   148.64      20.3490         297.28\n",
       "PH                    Parker-Hannifin   123.10      43.3140         246.20\n",
       "PRGO                          Perrigo   138.63      63.9620         277.26\n",
       "PXD         Pioneer Natural Resources   202.31      46.9580         404.62\n",
       "PPG                    PPG Industries   198.86      43.3390         397.72\n",
       "PX                       Praxair Inc.   130.93      22.5310         261.86\n",
       "PCP               Precision Castparts   249.02      75.9840         498.04\n",
       "PCLN                Priceline.com Inc  1197.12     137.8860        2394.24\n",
       "PSA                    Public Storage   171.37      30.0510         342.74\n",
       "PVH                          PVH Corp   131.48      52.7610         262.96\n",
       "RL            Polo Ralph Lauren Corp.   152.72      45.4790         305.44\n",
       "REGN    Regeneron Pharmaceuticals Inc   297.77      22.4020         595.54\n",
       "ROK          Rockwell Automation Inc.   121.26      19.8650         242.52\n",
       "ROP                  Roper Industries   141.66      43.6650         283.32\n",
       "SLB                 Schlumberger Ltd.   101.39      30.7210         202.78\n",
       "SHW                  Sherwin-Williams   202.41      16.7260         404.82\n",
       "SPG          Simon Property Group Inc   175.26      18.7670         350.52\n",
       "SNA                      Snap-On Inc.   115.83      37.5480         231.66\n",
       "SRCL                   Stericycle Inc   112.48      20.8020         224.96\n",
       "TMO          Thermo Fisher Scientific   115.74      51.2120         231.48\n",
       "TWC            Time Warner Cable Inc.   141.28      25.4630         282.56\n",
       "UNP                     Union Pacific   196.26      46.9570         392.52\n",
       "UPS             United Parcel Service   102.73       6.7900         205.46\n",
       "UTX               United Technologies   115.54      35.2520         231.08\n",
       "V                           Visa Inc.   212.07      43.3910         424.14\n",
       "VNO              Vornado Realty Trust   105.32      28.2430         210.64\n",
       "WAT                Waters Corporation   100.54      21.4600         201.08\n",
       "WLP                    WellPoint Inc.   108.82      86.3580         217.64\n",
       "WHR                   Whirlpool Corp.   147.26      66.2210         294.52\n",
       "ZMH                   Zimmer Holdings   101.84      37.1810         203.68\n",
       "\n",
       "[89 rows x 4 columns]"
      ]
     },
     "execution_count": 173,
     "metadata": {},
     "output_type": "execute_result"
    }
   ],
   "source": [
    "newdata[(newdata['Price'] > 100) & (newdata['Book Value'] > 0)]"
   ]
  },
  {
   "cell_type": "code",
   "execution_count": 174,
   "metadata": {
    "collapsed": true
   },
   "outputs": [],
   "source": [
    "del newdata['Doubled Price']"
   ]
  },
  {
   "cell_type": "code",
   "execution_count": 179,
   "metadata": {},
   "outputs": [
    {
     "name": "stderr",
     "output_type": "stream",
     "text": [
      "/Users/likit/anaconda/envs/tutorial/lib/python2.7/site-packages/ipykernel_launcher.py:1: SettingWithCopyWarning: \n",
      "A value is trying to be set on a copy of a slice from a DataFrame.\n",
      "Try using .loc[row_indexer,col_indexer] = value instead\n",
      "\n",
      "See the caveats in the documentation: http://pandas.pydata.org/pandas-docs/stable/indexing.html#indexing-view-versus-copy\n",
      "  \"\"\"Entry point for launching an IPython kernel.\n"
     ]
    }
   ],
   "source": [
    "newdata['Doubled Price'] = newdata['Price'] * 2"
   ]
  },
  {
   "cell_type": "code",
   "execution_count": 180,
   "metadata": {},
   "outputs": [
    {
     "data": {
      "text/plain": [
       "Index([u'Name', u'Price', u'Book Value', u'Doubled Price'], dtype='object')"
      ]
     },
     "execution_count": 180,
     "metadata": {},
     "output_type": "execute_result"
    }
   ],
   "source": [
    "newdata.columns"
   ]
  },
  {
   "cell_type": "code",
   "execution_count": 181,
   "metadata": {},
   "outputs": [],
   "source": [
    "newdata = newdata[['Name', 'Price', 'Book Value']]"
   ]
  },
  {
   "cell_type": "code",
   "execution_count": 182,
   "metadata": {},
   "outputs": [
    {
     "data": {
      "text/plain": [
       "Index([u'Name', u'Price', u'Book Value'], dtype='object')"
      ]
     },
     "execution_count": 182,
     "metadata": {},
     "output_type": "execute_result"
    }
   ],
   "source": [
    "newdata.columns"
   ]
  },
  {
   "cell_type": "code",
   "execution_count": 184,
   "metadata": {},
   "outputs": [
    {
     "name": "stdout",
     "output_type": "stream",
     "text": [
      "('MMM', Name          3M Co.\n",
      "Price           None\n",
      "Book Value    26.668\n",
      "Name: MMM, dtype: object)\n",
      "('ABT', Name          Abbott Laboratories\n",
      "Price                        None\n",
      "Book Value                 15.573\n",
      "Name: ABT, dtype: object)\n",
      "('ABBV', Name          AbbVie Inc.\n",
      "Price                None\n",
      "Book Value          2.954\n",
      "Name: ABBV, dtype: object)\n",
      "('ACN', Name          Accenture\n",
      "Price              None\n",
      "Book Value        8.326\n",
      "Name: ACN, dtype: object)\n",
      "('ACE', Name          ACE Limited\n",
      "Price                None\n",
      "Book Value         86.897\n",
      "Name: ACE, dtype: object)\n"
     ]
    }
   ],
   "source": [
    "for row in newdata.head().iterrows():\n",
    "    print(row)"
   ]
  },
  {
   "cell_type": "code",
   "execution_count": 186,
   "metadata": {},
   "outputs": [
    {
     "data": {
      "text/plain": [
       "'ACE'"
      ]
     },
     "execution_count": 186,
     "metadata": {},
     "output_type": "execute_result"
    }
   ],
   "source": [
    "row[0]"
   ]
  },
  {
   "cell_type": "code",
   "execution_count": 187,
   "metadata": {},
   "outputs": [
    {
     "data": {
      "text/plain": [
       "Name          ACE Limited\n",
       "Price                None\n",
       "Book Value         86.897\n",
       "Name: ACE, dtype: object"
      ]
     },
     "execution_count": 187,
     "metadata": {},
     "output_type": "execute_result"
    }
   ],
   "source": [
    "row[1]"
   ]
  },
  {
   "cell_type": "code",
   "execution_count": 191,
   "metadata": {},
   "outputs": [
    {
     "data": {
      "text/plain": [
       "86.897"
      ]
     },
     "execution_count": 191,
     "metadata": {},
     "output_type": "execute_result"
    }
   ],
   "source": [
    "row[1]['Book Value']"
   ]
  },
  {
   "cell_type": "code",
   "execution_count": 194,
   "metadata": {},
   "outputs": [
    {
     "data": {
      "text/plain": [
       "True"
      ]
     },
     "execution_count": 194,
     "metadata": {},
     "output_type": "execute_result"
    }
   ],
   "source": [
    "newdata.index[0].startswith('M')"
   ]
  },
  {
   "cell_type": "code",
   "execution_count": 195,
   "metadata": {},
   "outputs": [
    {
     "ename": "AttributeError",
     "evalue": "'Series' object has no attribute 'startswith'",
     "output_type": "error",
     "traceback": [
      "\u001b[0;31m---------------------------------------------------------------------------\u001b[0m",
      "\u001b[0;31mAttributeError\u001b[0m                            Traceback (most recent call last)",
      "\u001b[0;32m<ipython-input-195-90b80d1ee554>\u001b[0m in \u001b[0;36m<module>\u001b[0;34m()\u001b[0m\n\u001b[0;32m----> 1\u001b[0;31m \u001b[0mnewdata\u001b[0m\u001b[0;34m[\u001b[0m\u001b[0;34m'Name'\u001b[0m\u001b[0;34m]\u001b[0m\u001b[0;34m.\u001b[0m\u001b[0mstartswith\u001b[0m\u001b[0;34m(\u001b[0m\u001b[0;34m'M'\u001b[0m\u001b[0;34m)\u001b[0m\u001b[0;34m\u001b[0m\u001b[0m\n\u001b[0m",
      "\u001b[0;32m/Users/likit/anaconda/envs/tutorial/lib/python2.7/site-packages/pandas/core/generic.pyc\u001b[0m in \u001b[0;36m__getattr__\u001b[0;34m(self, name)\u001b[0m\n\u001b[1;32m   3079\u001b[0m             \u001b[0;32mif\u001b[0m \u001b[0mname\u001b[0m \u001b[0;32min\u001b[0m \u001b[0mself\u001b[0m\u001b[0;34m.\u001b[0m\u001b[0m_info_axis\u001b[0m\u001b[0;34m:\u001b[0m\u001b[0;34m\u001b[0m\u001b[0m\n\u001b[1;32m   3080\u001b[0m                 \u001b[0;32mreturn\u001b[0m \u001b[0mself\u001b[0m\u001b[0;34m[\u001b[0m\u001b[0mname\u001b[0m\u001b[0;34m]\u001b[0m\u001b[0;34m\u001b[0m\u001b[0m\n\u001b[0;32m-> 3081\u001b[0;31m             \u001b[0;32mreturn\u001b[0m \u001b[0mobject\u001b[0m\u001b[0;34m.\u001b[0m\u001b[0m__getattribute__\u001b[0m\u001b[0;34m(\u001b[0m\u001b[0mself\u001b[0m\u001b[0;34m,\u001b[0m \u001b[0mname\u001b[0m\u001b[0;34m)\u001b[0m\u001b[0;34m\u001b[0m\u001b[0m\n\u001b[0m\u001b[1;32m   3082\u001b[0m \u001b[0;34m\u001b[0m\u001b[0m\n\u001b[1;32m   3083\u001b[0m     \u001b[0;32mdef\u001b[0m \u001b[0m__setattr__\u001b[0m\u001b[0;34m(\u001b[0m\u001b[0mself\u001b[0m\u001b[0;34m,\u001b[0m \u001b[0mname\u001b[0m\u001b[0;34m,\u001b[0m \u001b[0mvalue\u001b[0m\u001b[0;34m)\u001b[0m\u001b[0;34m:\u001b[0m\u001b[0;34m\u001b[0m\u001b[0m\n",
      "\u001b[0;31mAttributeError\u001b[0m: 'Series' object has no attribute 'startswith'"
     ]
    }
   ],
   "source": []
  },
  {
   "cell_type": "code",
   "execution_count": 199,
   "metadata": {},
   "outputs": [
    {
     "data": {
      "text/html": [
       "<div>\n",
       "<style>\n",
       "    .dataframe thead tr:only-child th {\n",
       "        text-align: right;\n",
       "    }\n",
       "\n",
       "    .dataframe thead th {\n",
       "        text-align: left;\n",
       "    }\n",
       "\n",
       "    .dataframe tbody tr th {\n",
       "        vertical-align: top;\n",
       "    }\n",
       "</style>\n",
       "<table border=\"1\" class=\"dataframe\">\n",
       "  <thead>\n",
       "    <tr style=\"text-align: right;\">\n",
       "      <th></th>\n",
       "      <th>Name</th>\n",
       "      <th>Price</th>\n",
       "      <th>Book Value</th>\n",
       "    </tr>\n",
       "    <tr>\n",
       "      <th>Symbol</th>\n",
       "      <th></th>\n",
       "      <th></th>\n",
       "      <th></th>\n",
       "    </tr>\n",
       "  </thead>\n",
       "  <tbody>\n",
       "    <tr>\n",
       "      <th>BHI</th>\n",
       "      <td>Baker Hughes Inc</td>\n",
       "      <td>None</td>\n",
       "      <td>40.8210</td>\n",
       "    </tr>\n",
       "    <tr>\n",
       "      <th>BLL</th>\n",
       "      <td>Ball Corp</td>\n",
       "      <td>None</td>\n",
       "      <td>7.7500</td>\n",
       "    </tr>\n",
       "    <tr>\n",
       "      <th>BAC</th>\n",
       "      <td>Bank of America Corp</td>\n",
       "      <td>None</td>\n",
       "      <td>20.7540</td>\n",
       "    </tr>\n",
       "    <tr>\n",
       "      <th>BCR</th>\n",
       "      <td>Bard (C.R.) Inc.</td>\n",
       "      <td>None</td>\n",
       "      <td>26.9640</td>\n",
       "    </tr>\n",
       "    <tr>\n",
       "      <th>BAX</th>\n",
       "      <td>Baxter International Inc.</td>\n",
       "      <td>None</td>\n",
       "      <td>15.9850</td>\n",
       "    </tr>\n",
       "    <tr>\n",
       "      <th>BBT</th>\n",
       "      <td>BB&amp;T Corporation</td>\n",
       "      <td>None</td>\n",
       "      <td>29.0310</td>\n",
       "    </tr>\n",
       "    <tr>\n",
       "      <th>BEAM</th>\n",
       "      <td>Beam Inc.</td>\n",
       "      <td>None</td>\n",
       "      <td>NaN</td>\n",
       "    </tr>\n",
       "    <tr>\n",
       "      <th>BDX</th>\n",
       "      <td>Becton Dickinson</td>\n",
       "      <td>None</td>\n",
       "      <td>27.5100</td>\n",
       "    </tr>\n",
       "    <tr>\n",
       "      <th>BBBY</th>\n",
       "      <td>Bed Bath &amp; Beyond</td>\n",
       "      <td>None</td>\n",
       "      <td>19.5630</td>\n",
       "    </tr>\n",
       "    <tr>\n",
       "      <th>BMS</th>\n",
       "      <td>Bemis Company</td>\n",
       "      <td>None</td>\n",
       "      <td>16.6200</td>\n",
       "    </tr>\n",
       "    <tr>\n",
       "      <th>BRK-B</th>\n",
       "      <td>Berkshire Hathaway</td>\n",
       "      <td>None</td>\n",
       "      <td>138425.4531</td>\n",
       "    </tr>\n",
       "    <tr>\n",
       "      <th>BBY</th>\n",
       "      <td>Best Buy Co. Inc.</td>\n",
       "      <td>None</td>\n",
       "      <td>12.7350</td>\n",
       "    </tr>\n",
       "    <tr>\n",
       "      <th>BIIB</th>\n",
       "      <td>BIOGEN IDEC Inc.</td>\n",
       "      <td>None</td>\n",
       "      <td>38.5190</td>\n",
       "    </tr>\n",
       "    <tr>\n",
       "      <th>BLK</th>\n",
       "      <td>BlackRock</td>\n",
       "      <td>None</td>\n",
       "      <td>156.5470</td>\n",
       "    </tr>\n",
       "    <tr>\n",
       "      <th>HRB</th>\n",
       "      <td>Block H&amp;R</td>\n",
       "      <td>None</td>\n",
       "      <td>2.5040</td>\n",
       "    </tr>\n",
       "    <tr>\n",
       "      <th>BA</th>\n",
       "      <td>Boeing Company</td>\n",
       "      <td>None</td>\n",
       "      <td>19.8700</td>\n",
       "    </tr>\n",
       "    <tr>\n",
       "      <th>BWA</th>\n",
       "      <td>BorgWarner</td>\n",
       "      <td>None</td>\n",
       "      <td>16.1120</td>\n",
       "    </tr>\n",
       "    <tr>\n",
       "      <th>BXP</th>\n",
       "      <td>Boston Properties</td>\n",
       "      <td>None</td>\n",
       "      <td>35.9570</td>\n",
       "    </tr>\n",
       "    <tr>\n",
       "      <th>BSX</th>\n",
       "      <td>Boston Scientific</td>\n",
       "      <td>None</td>\n",
       "      <td>4.9410</td>\n",
       "    </tr>\n",
       "    <tr>\n",
       "      <th>BMY</th>\n",
       "      <td>Bristol-Myers Squibb</td>\n",
       "      <td>None</td>\n",
       "      <td>9.3370</td>\n",
       "    </tr>\n",
       "    <tr>\n",
       "      <th>BRCM</th>\n",
       "      <td>Broadcom Corporation</td>\n",
       "      <td>None</td>\n",
       "      <td>14.7160</td>\n",
       "    </tr>\n",
       "    <tr>\n",
       "      <th>BF-B</th>\n",
       "      <td>Brown-Forman Corporation</td>\n",
       "      <td>None</td>\n",
       "      <td>8.8570</td>\n",
       "    </tr>\n",
       "  </tbody>\n",
       "</table>\n",
       "</div>"
      ],
      "text/plain": [
       "                             Name Price   Book Value\n",
       "Symbol                                              \n",
       "BHI              Baker Hughes Inc  None      40.8210\n",
       "BLL                     Ball Corp  None       7.7500\n",
       "BAC          Bank of America Corp  None      20.7540\n",
       "BCR              Bard (C.R.) Inc.  None      26.9640\n",
       "BAX     Baxter International Inc.  None      15.9850\n",
       "BBT              BB&T Corporation  None      29.0310\n",
       "BEAM                    Beam Inc.  None          NaN\n",
       "BDX              Becton Dickinson  None      27.5100\n",
       "BBBY            Bed Bath & Beyond  None      19.5630\n",
       "BMS                 Bemis Company  None      16.6200\n",
       "BRK-B          Berkshire Hathaway  None  138425.4531\n",
       "BBY             Best Buy Co. Inc.  None      12.7350\n",
       "BIIB             BIOGEN IDEC Inc.  None      38.5190\n",
       "BLK                     BlackRock  None     156.5470\n",
       "HRB                     Block H&R  None       2.5040\n",
       "BA                 Boeing Company  None      19.8700\n",
       "BWA                    BorgWarner  None      16.1120\n",
       "BXP             Boston Properties  None      35.9570\n",
       "BSX             Boston Scientific  None       4.9410\n",
       "BMY          Bristol-Myers Squibb  None       9.3370\n",
       "BRCM         Broadcom Corporation  None      14.7160\n",
       "BF-B     Brown-Forman Corporation  None       8.8570"
      ]
     },
     "execution_count": 199,
     "metadata": {},
     "output_type": "execute_result"
    }
   ],
   "source": [
    "newdata[newdata['Name'].str.startswith('B')]"
   ]
  },
  {
   "cell_type": "code",
   "execution_count": 200,
   "metadata": {},
   "outputs": [
    {
     "data": {
      "text/plain": [
       "500"
      ]
     },
     "execution_count": 200,
     "metadata": {},
     "output_type": "execute_result"
    }
   ],
   "source": [
    "len(newdata) # number of rows"
   ]
  },
  {
   "cell_type": "code",
   "execution_count": 201,
   "metadata": {},
   "outputs": [
    {
     "data": {
      "text/plain": [
       "1500"
      ]
     },
     "execution_count": 201,
     "metadata": {},
     "output_type": "execute_result"
    }
   ],
   "source": [
    "newdata.size # data points"
   ]
  },
  {
   "cell_type": "code",
   "execution_count": 202,
   "metadata": {},
   "outputs": [
    {
     "data": {
      "text/plain": [
       "3"
      ]
     },
     "execution_count": 202,
     "metadata": {},
     "output_type": "execute_result"
    }
   ],
   "source": [
    "len(newdata.columns) # number of columns"
   ]
  },
  {
   "cell_type": "code",
   "execution_count": 204,
   "metadata": {},
   "outputs": [
    {
     "data": {
      "text/html": [
       "<div>\n",
       "<style>\n",
       "    .dataframe thead tr:only-child th {\n",
       "        text-align: right;\n",
       "    }\n",
       "\n",
       "    .dataframe thead th {\n",
       "        text-align: left;\n",
       "    }\n",
       "\n",
       "    .dataframe tbody tr th {\n",
       "        vertical-align: top;\n",
       "    }\n",
       "</style>\n",
       "<table border=\"1\" class=\"dataframe\">\n",
       "  <thead>\n",
       "    <tr style=\"text-align: right;\">\n",
       "      <th></th>\n",
       "      <th>Book Value</th>\n",
       "      <th>Name</th>\n",
       "      <th>Price</th>\n",
       "    </tr>\n",
       "    <tr>\n",
       "      <th>Symbol</th>\n",
       "      <th></th>\n",
       "      <th></th>\n",
       "      <th></th>\n",
       "    </tr>\n",
       "  </thead>\n",
       "  <tbody>\n",
       "    <tr>\n",
       "      <th>MMM</th>\n",
       "      <td>26.668</td>\n",
       "      <td>3M Co.</td>\n",
       "      <td>141.14</td>\n",
       "    </tr>\n",
       "    <tr>\n",
       "      <th>ABT</th>\n",
       "      <td>15.573</td>\n",
       "      <td>Abbott Laboratories</td>\n",
       "      <td>39.60</td>\n",
       "    </tr>\n",
       "    <tr>\n",
       "      <th>ABBV</th>\n",
       "      <td>2.954</td>\n",
       "      <td>AbbVie Inc.</td>\n",
       "      <td>53.95</td>\n",
       "    </tr>\n",
       "    <tr>\n",
       "      <th>ACN</th>\n",
       "      <td>8.326</td>\n",
       "      <td>Accenture</td>\n",
       "      <td>79.79</td>\n",
       "    </tr>\n",
       "    <tr>\n",
       "      <th>ACE</th>\n",
       "      <td>86.897</td>\n",
       "      <td>ACE Limited</td>\n",
       "      <td>102.91</td>\n",
       "    </tr>\n",
       "  </tbody>\n",
       "</table>\n",
       "</div>"
      ],
      "text/plain": [
       "        Book Value                 Name   Price\n",
       "Symbol                                         \n",
       "MMM         26.668               3M Co.  141.14\n",
       "ABT         15.573  Abbott Laboratories   39.60\n",
       "ABBV         2.954          AbbVie Inc.   53.95\n",
       "ACN          8.326            Accenture   79.79\n",
       "ACE         86.897          ACE Limited  102.91"
      ]
     },
     "execution_count": 204,
     "metadata": {},
     "output_type": "execute_result"
    }
   ],
   "source": [
    "data[['Book Value', 'Name', 'Price']].head()"
   ]
  },
  {
   "cell_type": "code",
   "execution_count": 212,
   "metadata": {},
   "outputs": [
    {
     "data": {
      "text/html": [
       "<div>\n",
       "<style>\n",
       "    .dataframe thead tr:only-child th {\n",
       "        text-align: right;\n",
       "    }\n",
       "\n",
       "    .dataframe thead th {\n",
       "        text-align: left;\n",
       "    }\n",
       "\n",
       "    .dataframe tbody tr th {\n",
       "        vertical-align: top;\n",
       "    }\n",
       "</style>\n",
       "<table border=\"1\" class=\"dataframe\">\n",
       "  <thead>\n",
       "    <tr style=\"text-align: right;\">\n",
       "      <th></th>\n",
       "      <th>Name</th>\n",
       "      <th>Price</th>\n",
       "      <th>Book Value</th>\n",
       "    </tr>\n",
       "    <tr>\n",
       "      <th>Symbol</th>\n",
       "      <th></th>\n",
       "      <th></th>\n",
       "      <th></th>\n",
       "    </tr>\n",
       "  </thead>\n",
       "  <tbody>\n",
       "    <tr>\n",
       "      <th>ACE</th>\n",
       "      <td>ACE Limited</td>\n",
       "      <td>None</td>\n",
       "      <td>86.8970</td>\n",
       "    </tr>\n",
       "    <tr>\n",
       "      <th>AAPL</th>\n",
       "      <td>Apple Inc.</td>\n",
       "      <td>None</td>\n",
       "      <td>139.4600</td>\n",
       "    </tr>\n",
       "    <tr>\n",
       "      <th>BRK-B</th>\n",
       "      <td>Berkshire Hathaway</td>\n",
       "      <td>None</td>\n",
       "      <td>138425.4531</td>\n",
       "    </tr>\n",
       "    <tr>\n",
       "      <th>BLK</th>\n",
       "      <td>BlackRock</td>\n",
       "      <td>None</td>\n",
       "      <td>156.5470</td>\n",
       "    </tr>\n",
       "    <tr>\n",
       "      <th>CF</th>\n",
       "      <td>CF Industries Holdings Inc</td>\n",
       "      <td>None</td>\n",
       "      <td>93.7190</td>\n",
       "    </tr>\n",
       "    <tr>\n",
       "      <th>GS</th>\n",
       "      <td>Goldman Sachs Group</td>\n",
       "      <td>None</td>\n",
       "      <td>154.6880</td>\n",
       "    </tr>\n",
       "    <tr>\n",
       "      <th>GOOG</th>\n",
       "      <td>Google Inc.</td>\n",
       "      <td>None</td>\n",
       "      <td>135.9770</td>\n",
       "    </tr>\n",
       "    <tr>\n",
       "      <th>ICE</th>\n",
       "      <td>IntercontinentalExchange Inc.</td>\n",
       "      <td>None</td>\n",
       "      <td>111.3360</td>\n",
       "    </tr>\n",
       "    <tr>\n",
       "      <th>ISRG</th>\n",
       "      <td>Intuitive Surgical Inc.</td>\n",
       "      <td>None</td>\n",
       "      <td>95.2240</td>\n",
       "    </tr>\n",
       "    <tr>\n",
       "      <th>PCLN</th>\n",
       "      <td>Priceline.com Inc</td>\n",
       "      <td>None</td>\n",
       "      <td>137.8860</td>\n",
       "    </tr>\n",
       "  </tbody>\n",
       "</table>\n",
       "</div>"
      ],
      "text/plain": [
       "                                 Name Price   Book Value\n",
       "Symbol                                                  \n",
       "ACE                       ACE Limited  None      86.8970\n",
       "AAPL                       Apple Inc.  None     139.4600\n",
       "BRK-B              Berkshire Hathaway  None  138425.4531\n",
       "BLK                         BlackRock  None     156.5470\n",
       "CF         CF Industries Holdings Inc  None      93.7190\n",
       "GS                Goldman Sachs Group  None     154.6880\n",
       "GOOG                      Google Inc.  None     135.9770\n",
       "ICE     IntercontinentalExchange Inc.  None     111.3360\n",
       "ISRG          Intuitive Surgical Inc.  None      95.2240\n",
       "PCLN                Priceline.com Inc  None     137.8860"
      ]
     },
     "execution_count": 212,
     "metadata": {},
     "output_type": "execute_result"
    }
   ],
   "source": [
    "newdata.sort_values(by='Book Value',\n",
    "                    ascending=False).head(n=10).\\\n",
    "                    sort_values(by='Name')"
   ]
  },
  {
   "cell_type": "code",
   "execution_count": 222,
   "metadata": {
    "collapsed": true
   },
   "outputs": [],
   "source": [
    "%matplotlib inline"
   ]
  },
  {
   "cell_type": "code",
   "execution_count": 224,
   "metadata": {
    "collapsed": true
   },
   "outputs": [],
   "source": [
    "newdata['Price'] = data['Price']"
   ]
  },
  {
   "cell_type": "code",
   "execution_count": 223,
   "metadata": {},
   "outputs": [
    {
     "data": {
      "text/plain": [
       "<matplotlib.axes._subplots.AxesSubplot at 0x11202d910>"
      ]
     },
     "execution_count": 223,
     "metadata": {},
     "output_type": "execute_result"
    },
    {
     "data": {
      "image/png": "[encoded data removed]",
      "text/plain": [
       "<matplotlib.figure.Figure at 0x10e1c5cd0>"
      ]
     },
     "metadata": {},
     "output_type": "display_data"
    }
   ],
   "source": [
    "newdata.plot.line()"
   ]
  },
  {
   "cell_type": "code",
   "execution_count": 227,
   "metadata": {},
   "outputs": [
    {
     "data": {
      "text/plain": [
       "<matplotlib.axes._subplots.AxesSubplot at 0x1121419d0>"
      ]
     },
     "execution_count": 227,
     "metadata": {},
     "output_type": "execute_result"
    },
    {
     "data": {
      "image/png": "[encoded data removed]",
      "text/plain": [
       "<matplotlib.figure.Figure at 0x112155450>"
      ]
     },
     "metadata": {},
     "output_type": "display_data"
    }
   ],
   "source": [
    "newdata.tail(n=100).plot.scatter('Price', 'Book Value')"
   ]
  },
  {
   "cell_type": "code",
   "execution_count": 232,
   "metadata": {},
   "outputs": [
    {
     "data": {
      "text/plain": [
       "<matplotlib.axes._subplots.AxesSubplot at 0x112607790>"
      ]
     },
     "execution_count": 232,
     "metadata": {},
     "output_type": "execute_result"
    },
    {
     "data": {
      "image/png": "[encoded data removed]",
      "text/plain": [
       "<matplotlib.figure.Figure at 0x1127c6a10>"
      ]
     },
     "metadata": {},
     "output_type": "display_data"
    }
   ],
   "source": [
    "newdata.tail(n=100).plot.line()"
   ]
  },
  {
   "cell_type": "code",
   "execution_count": 230,
   "metadata": {
    "collapsed": true
   },
   "outputs": [],
   "source": [
    "newdata.plot?"
   ]
  },
  {
   "cell_type": "code",
   "execution_count": 233,
   "metadata": {},
   "outputs": [
    {
     "data": {
      "image/png": "[encoded data removed]",
      "text/plain": [
       "<matplotlib.figure.Figure at 0x11282f990>"
      ]
     },
     "metadata": {},
     "output_type": "display_data"
    }
   ],
   "source": [
    "import numpy as np\n",
    "import matplotlib.pyplot as plt\n",
    "from matplotlib.lines import Line2D\n",
    "\n",
    "\n",
    "points = np.ones(5)  # Draw 3 points for each line\n",
    "text_style = dict(horizontalalignment='right', verticalalignment='center',\n",
    "                  fontsize=12, fontdict={'family': 'monospace'})\n",
    "marker_style = dict(color='cornflowerblue', linestyle=':', marker='o',\n",
    "                    markersize=15, markerfacecoloralt='gray')\n",
    "\n",
    "\n",
    "def format_axes(ax):\n",
    "    ax.margins(0.2)\n",
    "    ax.set_axis_off()\n",
    "\n",
    "\n",
    "def nice_repr(text):\n",
    "    return repr(text).lstrip('u')\n",
    "\n",
    "\n",
    "fig, ax = plt.subplots()\n",
    "\n",
    "# Plot all fill styles.\n",
    "for y, fill_style in enumerate(Line2D.fillStyles):\n",
    "    ax.text(-0.5, y, nice_repr(fill_style), **text_style)\n",
    "    ax.plot(y * points, fillstyle=fill_style, **marker_style)\n",
    "    format_axes(ax)\n",
    "    ax.set_title('fill style')\n",
    "\n",
    "plt.show()"
   ]
  },
  {
   "cell_type": "code",
   "execution_count": null,
   "metadata": {
    "collapsed": true
   },
   "outputs": [],
   "source": []
  }
 ],
 "metadata": {
  "kernelspec": {
   "display_name": "Python 2",
   "language": "python",
   "name": "python2"
  },
  "language_info": {
   "codemirror_mode": {
    "name": "ipython",
    "version": 2
   },
   "file_extension": ".py",
   "mimetype": "text/x-python",
   "name": "python",
   "nbconvert_exporter": "python",
   "pygments_lexer": "ipython2",
   "version": "2.7.13"
  }
 },
 "nbformat": 4,
 "nbformat_minor": 2
}
